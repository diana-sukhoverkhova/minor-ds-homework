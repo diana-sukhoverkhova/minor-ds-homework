{
  "nbformat": 4,
  "nbformat_minor": 0,
  "metadata": {
    "kernelspec": {
      "display_name": "Python 3",
      "language": "python",
      "name": "python3"
    },
    "language_info": {
      "codemirror_mode": {
        "name": "ipython",
        "version": 3
      },
      "file_extension": ".py",
      "mimetype": "text/x-python",
      "name": "python",
      "nbconvert_exporter": "python",
      "pygments_lexer": "ipython3",
      "version": "3.7.7"
    },
    "colab": {
      "name": "hse-dl-hw1.ipynb",
      "provenance": [],
      "collapsed_sections": []
    },
    "accelerator": "GPU",
    "widgets": {
      "application/vnd.jupyter.widget-state+json": {
        "1f46d99660434d35a4b33afa669c3e53": {
          "model_module": "@jupyter-widgets/controls",
          "model_name": "HBoxModel",
          "state": {
            "_view_name": "HBoxView",
            "_dom_classes": [],
            "_model_name": "HBoxModel",
            "_view_module": "@jupyter-widgets/controls",
            "_model_module_version": "1.5.0",
            "_view_count": null,
            "_view_module_version": "1.5.0",
            "box_style": "",
            "layout": "IPY_MODEL_4548cebf3fad483396bcb6e239fa7e9e",
            "_model_module": "@jupyter-widgets/controls",
            "children": [
              "IPY_MODEL_0fcf4a1f93c74e28a49b9d5270c0df55",
              "IPY_MODEL_5e22a345b7434afbbc8962290335f153"
            ]
          }
        },
        "4548cebf3fad483396bcb6e239fa7e9e": {
          "model_module": "@jupyter-widgets/base",
          "model_name": "LayoutModel",
          "state": {
            "_view_name": "LayoutView",
            "grid_template_rows": null,
            "right": null,
            "justify_content": null,
            "_view_module": "@jupyter-widgets/base",
            "overflow": null,
            "_model_module_version": "1.2.0",
            "_view_count": null,
            "flex_flow": null,
            "width": null,
            "min_width": null,
            "border": null,
            "align_items": null,
            "bottom": null,
            "_model_module": "@jupyter-widgets/base",
            "top": null,
            "grid_column": null,
            "overflow_y": null,
            "overflow_x": null,
            "grid_auto_flow": null,
            "grid_area": null,
            "grid_template_columns": null,
            "flex": null,
            "_model_name": "LayoutModel",
            "justify_items": null,
            "grid_row": null,
            "max_height": null,
            "align_content": null,
            "visibility": null,
            "align_self": null,
            "height": null,
            "min_height": null,
            "padding": null,
            "grid_auto_rows": null,
            "grid_gap": null,
            "max_width": null,
            "order": null,
            "_view_module_version": "1.2.0",
            "grid_template_areas": null,
            "object_position": null,
            "object_fit": null,
            "grid_auto_columns": null,
            "margin": null,
            "display": null,
            "left": null
          }
        },
        "0fcf4a1f93c74e28a49b9d5270c0df55": {
          "model_module": "@jupyter-widgets/controls",
          "model_name": "FloatProgressModel",
          "state": {
            "_view_name": "ProgressView",
            "style": "IPY_MODEL_de0447a69f3d46e39102992da5861e8f",
            "_dom_classes": [],
            "description": "",
            "_model_name": "FloatProgressModel",
            "bar_style": "info",
            "max": 1,
            "_view_module": "@jupyter-widgets/controls",
            "_model_module_version": "1.5.0",
            "value": 1,
            "_view_count": null,
            "_view_module_version": "1.5.0",
            "orientation": "horizontal",
            "min": 0,
            "description_tooltip": null,
            "_model_module": "@jupyter-widgets/controls",
            "layout": "IPY_MODEL_f3ad57ef6e384f2fb7febdf93d65f5d3"
          }
        },
        "5e22a345b7434afbbc8962290335f153": {
          "model_module": "@jupyter-widgets/controls",
          "model_name": "HTMLModel",
          "state": {
            "_view_name": "HTMLView",
            "style": "IPY_MODEL_cb300c33c23c496eb94ffa1603fb6716",
            "_dom_classes": [],
            "description": "",
            "_model_name": "HTMLModel",
            "placeholder": "​",
            "_view_module": "@jupyter-widgets/controls",
            "_model_module_version": "1.5.0",
            "value": " 26427392/? [00:20&lt;00:00, 6929760.39it/s]",
            "_view_count": null,
            "_view_module_version": "1.5.0",
            "description_tooltip": null,
            "_model_module": "@jupyter-widgets/controls",
            "layout": "IPY_MODEL_bb544903f7374283bd0893310b855d7c"
          }
        },
        "de0447a69f3d46e39102992da5861e8f": {
          "model_module": "@jupyter-widgets/controls",
          "model_name": "ProgressStyleModel",
          "state": {
            "_view_name": "StyleView",
            "_model_name": "ProgressStyleModel",
            "description_width": "initial",
            "_view_module": "@jupyter-widgets/base",
            "_model_module_version": "1.5.0",
            "_view_count": null,
            "_view_module_version": "1.2.0",
            "bar_color": null,
            "_model_module": "@jupyter-widgets/controls"
          }
        },
        "f3ad57ef6e384f2fb7febdf93d65f5d3": {
          "model_module": "@jupyter-widgets/base",
          "model_name": "LayoutModel",
          "state": {
            "_view_name": "LayoutView",
            "grid_template_rows": null,
            "right": null,
            "justify_content": null,
            "_view_module": "@jupyter-widgets/base",
            "overflow": null,
            "_model_module_version": "1.2.0",
            "_view_count": null,
            "flex_flow": null,
            "width": null,
            "min_width": null,
            "border": null,
            "align_items": null,
            "bottom": null,
            "_model_module": "@jupyter-widgets/base",
            "top": null,
            "grid_column": null,
            "overflow_y": null,
            "overflow_x": null,
            "grid_auto_flow": null,
            "grid_area": null,
            "grid_template_columns": null,
            "flex": null,
            "_model_name": "LayoutModel",
            "justify_items": null,
            "grid_row": null,
            "max_height": null,
            "align_content": null,
            "visibility": null,
            "align_self": null,
            "height": null,
            "min_height": null,
            "padding": null,
            "grid_auto_rows": null,
            "grid_gap": null,
            "max_width": null,
            "order": null,
            "_view_module_version": "1.2.0",
            "grid_template_areas": null,
            "object_position": null,
            "object_fit": null,
            "grid_auto_columns": null,
            "margin": null,
            "display": null,
            "left": null
          }
        },
        "cb300c33c23c496eb94ffa1603fb6716": {
          "model_module": "@jupyter-widgets/controls",
          "model_name": "DescriptionStyleModel",
          "state": {
            "_view_name": "StyleView",
            "_model_name": "DescriptionStyleModel",
            "description_width": "",
            "_view_module": "@jupyter-widgets/base",
            "_model_module_version": "1.5.0",
            "_view_count": null,
            "_view_module_version": "1.2.0",
            "_model_module": "@jupyter-widgets/controls"
          }
        },
        "bb544903f7374283bd0893310b855d7c": {
          "model_module": "@jupyter-widgets/base",
          "model_name": "LayoutModel",
          "state": {
            "_view_name": "LayoutView",
            "grid_template_rows": null,
            "right": null,
            "justify_content": null,
            "_view_module": "@jupyter-widgets/base",
            "overflow": null,
            "_model_module_version": "1.2.0",
            "_view_count": null,
            "flex_flow": null,
            "width": null,
            "min_width": null,
            "border": null,
            "align_items": null,
            "bottom": null,
            "_model_module": "@jupyter-widgets/base",
            "top": null,
            "grid_column": null,
            "overflow_y": null,
            "overflow_x": null,
            "grid_auto_flow": null,
            "grid_area": null,
            "grid_template_columns": null,
            "flex": null,
            "_model_name": "LayoutModel",
            "justify_items": null,
            "grid_row": null,
            "max_height": null,
            "align_content": null,
            "visibility": null,
            "align_self": null,
            "height": null,
            "min_height": null,
            "padding": null,
            "grid_auto_rows": null,
            "grid_gap": null,
            "max_width": null,
            "order": null,
            "_view_module_version": "1.2.0",
            "grid_template_areas": null,
            "object_position": null,
            "object_fit": null,
            "grid_auto_columns": null,
            "margin": null,
            "display": null,
            "left": null
          }
        },
        "9e258bfe4ba14ef697220fa79a47f7c1": {
          "model_module": "@jupyter-widgets/controls",
          "model_name": "HBoxModel",
          "state": {
            "_view_name": "HBoxView",
            "_dom_classes": [],
            "_model_name": "HBoxModel",
            "_view_module": "@jupyter-widgets/controls",
            "_model_module_version": "1.5.0",
            "_view_count": null,
            "_view_module_version": "1.5.0",
            "box_style": "",
            "layout": "IPY_MODEL_bbf461eb0f0044298f694310fd688b4d",
            "_model_module": "@jupyter-widgets/controls",
            "children": [
              "IPY_MODEL_4a5f7c6ce342425e91dd16ed64b2b29c",
              "IPY_MODEL_bfaa334d0b7040d0bdb7b610cd9042bb"
            ]
          }
        },
        "bbf461eb0f0044298f694310fd688b4d": {
          "model_module": "@jupyter-widgets/base",
          "model_name": "LayoutModel",
          "state": {
            "_view_name": "LayoutView",
            "grid_template_rows": null,
            "right": null,
            "justify_content": null,
            "_view_module": "@jupyter-widgets/base",
            "overflow": null,
            "_model_module_version": "1.2.0",
            "_view_count": null,
            "flex_flow": null,
            "width": null,
            "min_width": null,
            "border": null,
            "align_items": null,
            "bottom": null,
            "_model_module": "@jupyter-widgets/base",
            "top": null,
            "grid_column": null,
            "overflow_y": null,
            "overflow_x": null,
            "grid_auto_flow": null,
            "grid_area": null,
            "grid_template_columns": null,
            "flex": null,
            "_model_name": "LayoutModel",
            "justify_items": null,
            "grid_row": null,
            "max_height": null,
            "align_content": null,
            "visibility": null,
            "align_self": null,
            "height": null,
            "min_height": null,
            "padding": null,
            "grid_auto_rows": null,
            "grid_gap": null,
            "max_width": null,
            "order": null,
            "_view_module_version": "1.2.0",
            "grid_template_areas": null,
            "object_position": null,
            "object_fit": null,
            "grid_auto_columns": null,
            "margin": null,
            "display": null,
            "left": null
          }
        },
        "4a5f7c6ce342425e91dd16ed64b2b29c": {
          "model_module": "@jupyter-widgets/controls",
          "model_name": "FloatProgressModel",
          "state": {
            "_view_name": "ProgressView",
            "style": "IPY_MODEL_16e8486e235840abac8e7672ac1026c1",
            "_dom_classes": [],
            "description": "",
            "_model_name": "FloatProgressModel",
            "bar_style": "info",
            "max": 1,
            "_view_module": "@jupyter-widgets/controls",
            "_model_module_version": "1.5.0",
            "value": 1,
            "_view_count": null,
            "_view_module_version": "1.5.0",
            "orientation": "horizontal",
            "min": 0,
            "description_tooltip": null,
            "_model_module": "@jupyter-widgets/controls",
            "layout": "IPY_MODEL_ebfcf89c7b1d4770a30ad9ccb8cf87e8"
          }
        },
        "bfaa334d0b7040d0bdb7b610cd9042bb": {
          "model_module": "@jupyter-widgets/controls",
          "model_name": "HTMLModel",
          "state": {
            "_view_name": "HTMLView",
            "style": "IPY_MODEL_937da7d930664c519d520c107167e0a3",
            "_dom_classes": [],
            "description": "",
            "_model_name": "HTMLModel",
            "placeholder": "​",
            "_view_module": "@jupyter-widgets/controls",
            "_model_module_version": "1.5.0",
            "value": " 32768/? [00:17&lt;00:00, 117737.87it/s]",
            "_view_count": null,
            "_view_module_version": "1.5.0",
            "description_tooltip": null,
            "_model_module": "@jupyter-widgets/controls",
            "layout": "IPY_MODEL_dabee2dc6bd145109a925d90165f630d"
          }
        },
        "16e8486e235840abac8e7672ac1026c1": {
          "model_module": "@jupyter-widgets/controls",
          "model_name": "ProgressStyleModel",
          "state": {
            "_view_name": "StyleView",
            "_model_name": "ProgressStyleModel",
            "description_width": "initial",
            "_view_module": "@jupyter-widgets/base",
            "_model_module_version": "1.5.0",
            "_view_count": null,
            "_view_module_version": "1.2.0",
            "bar_color": null,
            "_model_module": "@jupyter-widgets/controls"
          }
        },
        "ebfcf89c7b1d4770a30ad9ccb8cf87e8": {
          "model_module": "@jupyter-widgets/base",
          "model_name": "LayoutModel",
          "state": {
            "_view_name": "LayoutView",
            "grid_template_rows": null,
            "right": null,
            "justify_content": null,
            "_view_module": "@jupyter-widgets/base",
            "overflow": null,
            "_model_module_version": "1.2.0",
            "_view_count": null,
            "flex_flow": null,
            "width": null,
            "min_width": null,
            "border": null,
            "align_items": null,
            "bottom": null,
            "_model_module": "@jupyter-widgets/base",
            "top": null,
            "grid_column": null,
            "overflow_y": null,
            "overflow_x": null,
            "grid_auto_flow": null,
            "grid_area": null,
            "grid_template_columns": null,
            "flex": null,
            "_model_name": "LayoutModel",
            "justify_items": null,
            "grid_row": null,
            "max_height": null,
            "align_content": null,
            "visibility": null,
            "align_self": null,
            "height": null,
            "min_height": null,
            "padding": null,
            "grid_auto_rows": null,
            "grid_gap": null,
            "max_width": null,
            "order": null,
            "_view_module_version": "1.2.0",
            "grid_template_areas": null,
            "object_position": null,
            "object_fit": null,
            "grid_auto_columns": null,
            "margin": null,
            "display": null,
            "left": null
          }
        },
        "937da7d930664c519d520c107167e0a3": {
          "model_module": "@jupyter-widgets/controls",
          "model_name": "DescriptionStyleModel",
          "state": {
            "_view_name": "StyleView",
            "_model_name": "DescriptionStyleModel",
            "description_width": "",
            "_view_module": "@jupyter-widgets/base",
            "_model_module_version": "1.5.0",
            "_view_count": null,
            "_view_module_version": "1.2.0",
            "_model_module": "@jupyter-widgets/controls"
          }
        },
        "dabee2dc6bd145109a925d90165f630d": {
          "model_module": "@jupyter-widgets/base",
          "model_name": "LayoutModel",
          "state": {
            "_view_name": "LayoutView",
            "grid_template_rows": null,
            "right": null,
            "justify_content": null,
            "_view_module": "@jupyter-widgets/base",
            "overflow": null,
            "_model_module_version": "1.2.0",
            "_view_count": null,
            "flex_flow": null,
            "width": null,
            "min_width": null,
            "border": null,
            "align_items": null,
            "bottom": null,
            "_model_module": "@jupyter-widgets/base",
            "top": null,
            "grid_column": null,
            "overflow_y": null,
            "overflow_x": null,
            "grid_auto_flow": null,
            "grid_area": null,
            "grid_template_columns": null,
            "flex": null,
            "_model_name": "LayoutModel",
            "justify_items": null,
            "grid_row": null,
            "max_height": null,
            "align_content": null,
            "visibility": null,
            "align_self": null,
            "height": null,
            "min_height": null,
            "padding": null,
            "grid_auto_rows": null,
            "grid_gap": null,
            "max_width": null,
            "order": null,
            "_view_module_version": "1.2.0",
            "grid_template_areas": null,
            "object_position": null,
            "object_fit": null,
            "grid_auto_columns": null,
            "margin": null,
            "display": null,
            "left": null
          }
        },
        "61b227df2319439189f8d73bc5496d51": {
          "model_module": "@jupyter-widgets/controls",
          "model_name": "HBoxModel",
          "state": {
            "_view_name": "HBoxView",
            "_dom_classes": [],
            "_model_name": "HBoxModel",
            "_view_module": "@jupyter-widgets/controls",
            "_model_module_version": "1.5.0",
            "_view_count": null,
            "_view_module_version": "1.5.0",
            "box_style": "",
            "layout": "IPY_MODEL_864cadb5d25f42fbb7da3d2ff25c0d2e",
            "_model_module": "@jupyter-widgets/controls",
            "children": [
              "IPY_MODEL_9e9e68166d1e4e9d9e7bdc5217712499",
              "IPY_MODEL_c48c507667b24c99a5387070e8a00aae"
            ]
          }
        },
        "864cadb5d25f42fbb7da3d2ff25c0d2e": {
          "model_module": "@jupyter-widgets/base",
          "model_name": "LayoutModel",
          "state": {
            "_view_name": "LayoutView",
            "grid_template_rows": null,
            "right": null,
            "justify_content": null,
            "_view_module": "@jupyter-widgets/base",
            "overflow": null,
            "_model_module_version": "1.2.0",
            "_view_count": null,
            "flex_flow": null,
            "width": null,
            "min_width": null,
            "border": null,
            "align_items": null,
            "bottom": null,
            "_model_module": "@jupyter-widgets/base",
            "top": null,
            "grid_column": null,
            "overflow_y": null,
            "overflow_x": null,
            "grid_auto_flow": null,
            "grid_area": null,
            "grid_template_columns": null,
            "flex": null,
            "_model_name": "LayoutModel",
            "justify_items": null,
            "grid_row": null,
            "max_height": null,
            "align_content": null,
            "visibility": null,
            "align_self": null,
            "height": null,
            "min_height": null,
            "padding": null,
            "grid_auto_rows": null,
            "grid_gap": null,
            "max_width": null,
            "order": null,
            "_view_module_version": "1.2.0",
            "grid_template_areas": null,
            "object_position": null,
            "object_fit": null,
            "grid_auto_columns": null,
            "margin": null,
            "display": null,
            "left": null
          }
        },
        "9e9e68166d1e4e9d9e7bdc5217712499": {
          "model_module": "@jupyter-widgets/controls",
          "model_name": "FloatProgressModel",
          "state": {
            "_view_name": "ProgressView",
            "style": "IPY_MODEL_abdf049459724a7397c5a81dc3cdd8ad",
            "_dom_classes": [],
            "description": "",
            "_model_name": "FloatProgressModel",
            "bar_style": "success",
            "max": 1,
            "_view_module": "@jupyter-widgets/controls",
            "_model_module_version": "1.5.0",
            "value": 1,
            "_view_count": null,
            "_view_module_version": "1.5.0",
            "orientation": "horizontal",
            "min": 0,
            "description_tooltip": null,
            "_model_module": "@jupyter-widgets/controls",
            "layout": "IPY_MODEL_36cf83991b064e3ba5d2bc8ddc4152aa"
          }
        },
        "c48c507667b24c99a5387070e8a00aae": {
          "model_module": "@jupyter-widgets/controls",
          "model_name": "HTMLModel",
          "state": {
            "_view_name": "HTMLView",
            "style": "IPY_MODEL_e54f63b3d2c741a2a3ce4c20698082ca",
            "_dom_classes": [],
            "description": "",
            "_model_name": "HTMLModel",
            "placeholder": "​",
            "_view_module": "@jupyter-widgets/controls",
            "_model_module_version": "1.5.0",
            "value": " 4423680/? [00:02&lt;00:00, 2011475.10it/s]",
            "_view_count": null,
            "_view_module_version": "1.5.0",
            "description_tooltip": null,
            "_model_module": "@jupyter-widgets/controls",
            "layout": "IPY_MODEL_37173c0bacd847d0b5b41cb345b39357"
          }
        },
        "abdf049459724a7397c5a81dc3cdd8ad": {
          "model_module": "@jupyter-widgets/controls",
          "model_name": "ProgressStyleModel",
          "state": {
            "_view_name": "StyleView",
            "_model_name": "ProgressStyleModel",
            "description_width": "initial",
            "_view_module": "@jupyter-widgets/base",
            "_model_module_version": "1.5.0",
            "_view_count": null,
            "_view_module_version": "1.2.0",
            "bar_color": null,
            "_model_module": "@jupyter-widgets/controls"
          }
        },
        "36cf83991b064e3ba5d2bc8ddc4152aa": {
          "model_module": "@jupyter-widgets/base",
          "model_name": "LayoutModel",
          "state": {
            "_view_name": "LayoutView",
            "grid_template_rows": null,
            "right": null,
            "justify_content": null,
            "_view_module": "@jupyter-widgets/base",
            "overflow": null,
            "_model_module_version": "1.2.0",
            "_view_count": null,
            "flex_flow": null,
            "width": null,
            "min_width": null,
            "border": null,
            "align_items": null,
            "bottom": null,
            "_model_module": "@jupyter-widgets/base",
            "top": null,
            "grid_column": null,
            "overflow_y": null,
            "overflow_x": null,
            "grid_auto_flow": null,
            "grid_area": null,
            "grid_template_columns": null,
            "flex": null,
            "_model_name": "LayoutModel",
            "justify_items": null,
            "grid_row": null,
            "max_height": null,
            "align_content": null,
            "visibility": null,
            "align_self": null,
            "height": null,
            "min_height": null,
            "padding": null,
            "grid_auto_rows": null,
            "grid_gap": null,
            "max_width": null,
            "order": null,
            "_view_module_version": "1.2.0",
            "grid_template_areas": null,
            "object_position": null,
            "object_fit": null,
            "grid_auto_columns": null,
            "margin": null,
            "display": null,
            "left": null
          }
        },
        "e54f63b3d2c741a2a3ce4c20698082ca": {
          "model_module": "@jupyter-widgets/controls",
          "model_name": "DescriptionStyleModel",
          "state": {
            "_view_name": "StyleView",
            "_model_name": "DescriptionStyleModel",
            "description_width": "",
            "_view_module": "@jupyter-widgets/base",
            "_model_module_version": "1.5.0",
            "_view_count": null,
            "_view_module_version": "1.2.0",
            "_model_module": "@jupyter-widgets/controls"
          }
        },
        "37173c0bacd847d0b5b41cb345b39357": {
          "model_module": "@jupyter-widgets/base",
          "model_name": "LayoutModel",
          "state": {
            "_view_name": "LayoutView",
            "grid_template_rows": null,
            "right": null,
            "justify_content": null,
            "_view_module": "@jupyter-widgets/base",
            "overflow": null,
            "_model_module_version": "1.2.0",
            "_view_count": null,
            "flex_flow": null,
            "width": null,
            "min_width": null,
            "border": null,
            "align_items": null,
            "bottom": null,
            "_model_module": "@jupyter-widgets/base",
            "top": null,
            "grid_column": null,
            "overflow_y": null,
            "overflow_x": null,
            "grid_auto_flow": null,
            "grid_area": null,
            "grid_template_columns": null,
            "flex": null,
            "_model_name": "LayoutModel",
            "justify_items": null,
            "grid_row": null,
            "max_height": null,
            "align_content": null,
            "visibility": null,
            "align_self": null,
            "height": null,
            "min_height": null,
            "padding": null,
            "grid_auto_rows": null,
            "grid_gap": null,
            "max_width": null,
            "order": null,
            "_view_module_version": "1.2.0",
            "grid_template_areas": null,
            "object_position": null,
            "object_fit": null,
            "grid_auto_columns": null,
            "margin": null,
            "display": null,
            "left": null
          }
        },
        "6fbf2d5d129547239c9ce598d7a98dbc": {
          "model_module": "@jupyter-widgets/controls",
          "model_name": "HBoxModel",
          "state": {
            "_view_name": "HBoxView",
            "_dom_classes": [],
            "_model_name": "HBoxModel",
            "_view_module": "@jupyter-widgets/controls",
            "_model_module_version": "1.5.0",
            "_view_count": null,
            "_view_module_version": "1.5.0",
            "box_style": "",
            "layout": "IPY_MODEL_87428a71e9ff4df686609ac19966e7fd",
            "_model_module": "@jupyter-widgets/controls",
            "children": [
              "IPY_MODEL_25f56f2840a94877911b427eaae0ceb9",
              "IPY_MODEL_d80b061d057c42b49174a58b9cf81828"
            ]
          }
        },
        "87428a71e9ff4df686609ac19966e7fd": {
          "model_module": "@jupyter-widgets/base",
          "model_name": "LayoutModel",
          "state": {
            "_view_name": "LayoutView",
            "grid_template_rows": null,
            "right": null,
            "justify_content": null,
            "_view_module": "@jupyter-widgets/base",
            "overflow": null,
            "_model_module_version": "1.2.0",
            "_view_count": null,
            "flex_flow": null,
            "width": null,
            "min_width": null,
            "border": null,
            "align_items": null,
            "bottom": null,
            "_model_module": "@jupyter-widgets/base",
            "top": null,
            "grid_column": null,
            "overflow_y": null,
            "overflow_x": null,
            "grid_auto_flow": null,
            "grid_area": null,
            "grid_template_columns": null,
            "flex": null,
            "_model_name": "LayoutModel",
            "justify_items": null,
            "grid_row": null,
            "max_height": null,
            "align_content": null,
            "visibility": null,
            "align_self": null,
            "height": null,
            "min_height": null,
            "padding": null,
            "grid_auto_rows": null,
            "grid_gap": null,
            "max_width": null,
            "order": null,
            "_view_module_version": "1.2.0",
            "grid_template_areas": null,
            "object_position": null,
            "object_fit": null,
            "grid_auto_columns": null,
            "margin": null,
            "display": null,
            "left": null
          }
        },
        "25f56f2840a94877911b427eaae0ceb9": {
          "model_module": "@jupyter-widgets/controls",
          "model_name": "FloatProgressModel",
          "state": {
            "_view_name": "ProgressView",
            "style": "IPY_MODEL_63a9d9e3b35f40508c268b8d38347bef",
            "_dom_classes": [],
            "description": "",
            "_model_name": "FloatProgressModel",
            "bar_style": "success",
            "max": 1,
            "_view_module": "@jupyter-widgets/controls",
            "_model_module_version": "1.5.0",
            "value": 1,
            "_view_count": null,
            "_view_module_version": "1.5.0",
            "orientation": "horizontal",
            "min": 0,
            "description_tooltip": null,
            "_model_module": "@jupyter-widgets/controls",
            "layout": "IPY_MODEL_7c21dad4b2da4bbbae3b9cf9dd5a043a"
          }
        },
        "d80b061d057c42b49174a58b9cf81828": {
          "model_module": "@jupyter-widgets/controls",
          "model_name": "HTMLModel",
          "state": {
            "_view_name": "HTMLView",
            "style": "IPY_MODEL_ec7ddb3a22664393a91359f66258638b",
            "_dom_classes": [],
            "description": "",
            "_model_name": "HTMLModel",
            "placeholder": "​",
            "_view_module": "@jupyter-widgets/controls",
            "_model_module_version": "1.5.0",
            "value": " 8192/? [00:00&lt;00:00, 12647.43it/s]",
            "_view_count": null,
            "_view_module_version": "1.5.0",
            "description_tooltip": null,
            "_model_module": "@jupyter-widgets/controls",
            "layout": "IPY_MODEL_2c21cd1dc32248a5a061d621cb41f4e2"
          }
        },
        "63a9d9e3b35f40508c268b8d38347bef": {
          "model_module": "@jupyter-widgets/controls",
          "model_name": "ProgressStyleModel",
          "state": {
            "_view_name": "StyleView",
            "_model_name": "ProgressStyleModel",
            "description_width": "initial",
            "_view_module": "@jupyter-widgets/base",
            "_model_module_version": "1.5.0",
            "_view_count": null,
            "_view_module_version": "1.2.0",
            "bar_color": null,
            "_model_module": "@jupyter-widgets/controls"
          }
        },
        "7c21dad4b2da4bbbae3b9cf9dd5a043a": {
          "model_module": "@jupyter-widgets/base",
          "model_name": "LayoutModel",
          "state": {
            "_view_name": "LayoutView",
            "grid_template_rows": null,
            "right": null,
            "justify_content": null,
            "_view_module": "@jupyter-widgets/base",
            "overflow": null,
            "_model_module_version": "1.2.0",
            "_view_count": null,
            "flex_flow": null,
            "width": null,
            "min_width": null,
            "border": null,
            "align_items": null,
            "bottom": null,
            "_model_module": "@jupyter-widgets/base",
            "top": null,
            "grid_column": null,
            "overflow_y": null,
            "overflow_x": null,
            "grid_auto_flow": null,
            "grid_area": null,
            "grid_template_columns": null,
            "flex": null,
            "_model_name": "LayoutModel",
            "justify_items": null,
            "grid_row": null,
            "max_height": null,
            "align_content": null,
            "visibility": null,
            "align_self": null,
            "height": null,
            "min_height": null,
            "padding": null,
            "grid_auto_rows": null,
            "grid_gap": null,
            "max_width": null,
            "order": null,
            "_view_module_version": "1.2.0",
            "grid_template_areas": null,
            "object_position": null,
            "object_fit": null,
            "grid_auto_columns": null,
            "margin": null,
            "display": null,
            "left": null
          }
        },
        "ec7ddb3a22664393a91359f66258638b": {
          "model_module": "@jupyter-widgets/controls",
          "model_name": "DescriptionStyleModel",
          "state": {
            "_view_name": "StyleView",
            "_model_name": "DescriptionStyleModel",
            "description_width": "",
            "_view_module": "@jupyter-widgets/base",
            "_model_module_version": "1.5.0",
            "_view_count": null,
            "_view_module_version": "1.2.0",
            "_model_module": "@jupyter-widgets/controls"
          }
        },
        "2c21cd1dc32248a5a061d621cb41f4e2": {
          "model_module": "@jupyter-widgets/base",
          "model_name": "LayoutModel",
          "state": {
            "_view_name": "LayoutView",
            "grid_template_rows": null,
            "right": null,
            "justify_content": null,
            "_view_module": "@jupyter-widgets/base",
            "overflow": null,
            "_model_module_version": "1.2.0",
            "_view_count": null,
            "flex_flow": null,
            "width": null,
            "min_width": null,
            "border": null,
            "align_items": null,
            "bottom": null,
            "_model_module": "@jupyter-widgets/base",
            "top": null,
            "grid_column": null,
            "overflow_y": null,
            "overflow_x": null,
            "grid_auto_flow": null,
            "grid_area": null,
            "grid_template_columns": null,
            "flex": null,
            "_model_name": "LayoutModel",
            "justify_items": null,
            "grid_row": null,
            "max_height": null,
            "align_content": null,
            "visibility": null,
            "align_self": null,
            "height": null,
            "min_height": null,
            "padding": null,
            "grid_auto_rows": null,
            "grid_gap": null,
            "max_width": null,
            "order": null,
            "_view_module_version": "1.2.0",
            "grid_template_areas": null,
            "object_position": null,
            "object_fit": null,
            "grid_auto_columns": null,
            "margin": null,
            "display": null,
            "left": null
          }
        }
      }
    }
  },
  "cells": [
    {
      "cell_type": "markdown",
      "metadata": {
        "id": "uSrF5u7lGlTW"
      },
      "source": [
        "## Домашнее задание №1\n",
        "\n",
        "В этом домашнем задании вы познакомитесь с pytorch сами и сможете попрактиковаться в его применении. \n",
        "\n",
        "#### План:\n",
        "\n",
        "1. Простейшие операции в pytorch\n",
        "2. Пишем Adam и применяем его к ручной модели\n",
        "3. Обучаем свою первую нейросеть"
      ]
    },
    {
      "cell_type": "code",
      "metadata": {
        "id": "XXR4CSGZGlTb",
        "outputId": "007b8b9c-7c74-4042-db01-d84cae896648",
        "colab": {
          "base_uri": "https://localhost:8080/"
        }
      },
      "source": [
        "import os\n",
        "import sys\n",
        "import math\n",
        "import torch\n",
        "import random\n",
        "import numpy as np\n",
        "from tqdm import tqdm\n",
        "import torch.nn.functional as F\n",
        "import torch.nn as nn\n",
        "import matplotlib.pyplot as plt\n",
        "\n",
        "from torch.utils.data import DataLoader\n",
        "import torchvision\n",
        "import torchvision.transforms as transforms\n",
        "from IPython.display import clear_output\n",
        "\n",
        "%matplotlib inline\n",
        "device = 'cuda'\n",
        "torch.cuda.is_available()"
      ],
      "execution_count": null,
      "outputs": [
        {
          "output_type": "execute_result",
          "data": {
            "text/plain": [
              "True"
            ]
          },
          "metadata": {
            "tags": []
          },
          "execution_count": 1
        }
      ]
    },
    {
      "cell_type": "markdown",
      "metadata": {
        "id": "nQdIFAOEGlT4"
      },
      "source": [
        "### Простейшие операции на pytorch (2 балла)"
      ]
    },
    {
      "cell_type": "markdown",
      "metadata": {
        "id": "77Jnzi57GlUD"
      },
      "source": [
        "**Task**: Cоздайте два случайных тензора (двумерных, не квадратных):"
      ]
    },
    {
      "cell_type": "code",
      "metadata": {
        "id": "lHhn88Z8GlUI"
      },
      "source": [
        "x = torch.rand(7, 9)\n",
        "y = torch.rand(9, 15)"
      ],
      "execution_count": null,
      "outputs": []
    },
    {
      "cell_type": "markdown",
      "metadata": {
        "id": "SOAHRf_2GlUc"
      },
      "source": [
        "**Task**: Умножьте их друг на друга, результат запишите в третий тензор без использования оператора `=`, для создания третьего тензора предлагается использовать `torch.empty`:"
      ]
    },
    {
      "cell_type": "code",
      "metadata": {
        "id": "a1ZC1-8KGlUg",
        "outputId": "a5254045-75d1-40a5-b606-cfe89ad71e4d",
        "colab": {
          "base_uri": "https://localhost:8080/"
        }
      },
      "source": [
        "z = torch.empty(7, 15)\n",
        "z.copy_(x @ y)"
      ],
      "execution_count": null,
      "outputs": [
        {
          "output_type": "execute_result",
          "data": {
            "text/plain": [
              "tensor([[2.5149, 2.5577, 3.0806, 1.6353, 2.4855, 2.3407, 3.1559, 3.2030, 2.0476,\n",
              "         2.5601, 2.7792, 2.0637, 2.0056, 3.5118, 2.6796],\n",
              "        [2.5526, 2.6837, 3.2322, 2.0448, 1.8596, 3.1315, 2.8420, 3.0832, 2.2200,\n",
              "         2.8804, 2.3497, 2.2634, 2.6523, 3.2870, 3.5056],\n",
              "        [1.8398, 2.4109, 2.4203, 1.4363, 2.3495, 2.1486, 2.5495, 2.6822, 2.1093,\n",
              "         2.3080, 2.0583, 2.3647, 1.5728, 2.9140, 2.1814],\n",
              "        [2.4333, 2.9815, 2.8268, 1.5822, 2.4949, 2.3276, 3.4288, 3.2724, 2.2937,\n",
              "         2.8107, 2.5462, 2.3160, 2.2193, 3.3928, 2.4914],\n",
              "        [2.0515, 2.1422, 2.2163, 1.0599, 1.7700, 1.9200, 2.7918, 2.4022, 1.7416,\n",
              "         2.5537, 2.2661, 1.5197, 1.8190, 2.4285, 2.1843],\n",
              "        [2.3114, 2.4484, 2.7292, 1.9418, 1.9112, 2.4997, 2.5107, 3.1302, 1.7751,\n",
              "         2.2277, 1.9045, 2.0167, 2.1869, 3.2394, 2.7879],\n",
              "        [3.1644, 3.1568, 3.9512, 2.3461, 2.1302, 3.7002, 2.8079, 3.5596, 2.2456,\n",
              "         2.8549, 1.9951, 2.6319, 2.8261, 3.4821, 3.0880]])"
            ]
          },
          "metadata": {
            "tags": []
          },
          "execution_count": 5
        }
      ]
    },
    {
      "cell_type": "markdown",
      "metadata": {
        "id": "_X1VGEOCGlUv"
      },
      "source": [
        "**Task**: Реализуйте ReLU использую только pytorch, примените его к тензору `x` (запрещено использование модулей torch.nn и его подмодулей, а также функции torch.relu)"
      ]
    },
    {
      "cell_type": "code",
      "metadata": {
        "id": "4iU-x8iwGlUy"
      },
      "source": [
        "def relu_forward(x):\n",
        "  return np.maximum(x, 0)\n",
        "\n",
        "assert torch.all(F.relu(x) == relu_forward(x))"
      ],
      "execution_count": null,
      "outputs": []
    },
    {
      "cell_type": "markdown",
      "metadata": {
        "id": "suIP9YzzGlVb"
      },
      "source": [
        "**Task**: Сделайте тоже самое c ELU (запрещено использование модулей torch.nn и его подмодулей):"
      ]
    },
    {
      "cell_type": "code",
      "metadata": {
        "id": "jRPPrA2QAhDK"
      },
      "source": [
        "def elu_unv(x):\n",
        "  if x > 0: \n",
        "    return max(x, 0)\n",
        "  else:\n",
        "    a = 1\n",
        "    return a * (math.exp(x) - 1)"
      ],
      "execution_count": null,
      "outputs": []
    },
    {
      "cell_type": "code",
      "metadata": {
        "id": "CVFKf9rSGlVf"
      },
      "source": [
        "def elu_forward(x):\n",
        "  shape = x.shape\n",
        "  x = np.array(torch.reshape(x, [-1]))\n",
        "  elu_v = np.vectorize(elu_unv)\n",
        "  ret = elu_v(x)\n",
        "  ret = np.array(ret, dtype=x.dtype)\n",
        "  return torch.tensor(ret.reshape(shape))\n",
        "\n",
        "assert torch.allclose(\n",
        "    F.elu(x),\n",
        "    elu_forward(x), \n",
        "    1e-4\n",
        ")"
      ],
      "execution_count": null,
      "outputs": []
    },
    {
      "cell_type": "markdown",
      "metadata": {
        "id": "LxdCGlSYGlVs"
      },
      "source": [
        "**Task**: LeakyReLU (запрещено использование модулей torch.nn и его подмодулей):"
      ]
    },
    {
      "cell_type": "code",
      "metadata": {
        "id": "bFBlFXvIBdR7"
      },
      "source": [
        "def lrelu_unv(x, alpha):\n",
        "  if x > 0: \n",
        "    return max(x, 0)\n",
        "  else:\n",
        "    return alpha * x"
      ],
      "execution_count": null,
      "outputs": []
    },
    {
      "cell_type": "code",
      "metadata": {
        "id": "xJXOOFdEGlVv"
      },
      "source": [
        "def lrelu_forward(x, alpha):\n",
        "  shape = x.shape\n",
        "  x = np.array(torch.reshape(x, [-1]))\n",
        "  lrelu_v = np.vectorize(lrelu_unv)\n",
        "  ret = lrelu_v(x, alpha)\n",
        "  ret = np.array(ret, dtype=x.dtype)\n",
        "  return torch.tensor(ret.reshape(shape))\n",
        "\n",
        "\n",
        "assert torch.all(F.leaky_relu(x, 0.01) == lrelu_forward(x, 0.01))"
      ],
      "execution_count": null,
      "outputs": []
    },
    {
      "cell_type": "markdown",
      "metadata": {
        "id": "G_TV9naOGlV9"
      },
      "source": [
        "**Task**: Теперь перейдем к немного более современным функциям активаций, например Mish, напомним как она выглядит:\n",
        "\n",
        "$$x * tanh(ln(1+e^x))$$\n",
        "\n",
        "(запрещено использование модулей torch.nn и его подмодулей)"
      ]
    },
    {
      "cell_type": "code",
      "metadata": {
        "id": "vBycHoOOB9np"
      },
      "source": [
        "def mish_unv(x):\n",
        "  return x * math.tanh(math.log(1+math.exp(x)))"
      ],
      "execution_count": null,
      "outputs": []
    },
    {
      "cell_type": "code",
      "metadata": {
        "id": "ECNfj22vGlWC"
      },
      "source": [
        "def mish(x):\n",
        "  shape = x.shape\n",
        "  x = np.array(torch.tensor(torch.reshape(x, [-1]), dtype=x.dtype))\n",
        "  mish_v = np.vectorize(mish_unv)\n",
        "  ret = mish_v(x)\n",
        "  ret = np.array(ret, dtype=x.dtype)\n",
        "  return torch.tensor(ret.reshape(shape))"
      ],
      "execution_count": null,
      "outputs": []
    },
    {
      "cell_type": "code",
      "metadata": {
        "id": "BKCkSiWOGlWS",
        "outputId": "86490ffa-4bbc-4c65-9cb9-12c2cf4e8d9b",
        "colab": {
          "base_uri": "https://localhost:8080/"
        }
      },
      "source": [
        "assert torch.allclose(\n",
        "    mish(torch.tensor([1, 1, 1], dtype=torch.float32)), \n",
        "    torch.tensor([0.8651, 0.8651, 0.8651]), \n",
        "    atol=1e-4\n",
        ")\n",
        "\n",
        "assert torch.allclose(\n",
        "    mish(torch.tensor([0.6376, 0.4021, 0.6656, 0.3726], dtype=torch.float64)), \n",
        "    torch.tensor([0.5014, 0.2908, 0.5280, 0.2663], dtype=torch.float64), \n",
        "    atol=1e-4\n",
        ")"
      ],
      "execution_count": null,
      "outputs": [
        {
          "output_type": "stream",
          "text": [
            "/usr/local/lib/python3.6/dist-packages/ipykernel_launcher.py:3: UserWarning: To copy construct from a tensor, it is recommended to use sourceTensor.clone().detach() or sourceTensor.clone().detach().requires_grad_(True), rather than torch.tensor(sourceTensor).\n",
            "  This is separate from the ipykernel package so we can avoid doing imports until\n"
          ],
          "name": "stderr"
        }
      ]
    },
    {
      "cell_type": "markdown",
      "metadata": {
        "id": "wn5Pf5wZGlWk"
      },
      "source": [
        "**Task**: Теперь реализуем swish, напомним как она выглядит:\n",
        "\n",
        "$$x * \\sigma(x)$$\n",
        "\n",
        "(запрещено использование модулей torch.nn и его подмодулей)"
      ]
    },
    {
      "cell_type": "code",
      "metadata": {
        "id": "BrwCa4DtGCN3"
      },
      "source": [
        "def swish_unv(x):\n",
        "  return x * 1 / (1 + math.exp(-x))"
      ],
      "execution_count": null,
      "outputs": []
    },
    {
      "cell_type": "code",
      "metadata": {
        "id": "LHkmyV1QGlWo"
      },
      "source": [
        "def swish(x):\n",
        "  shape = x.shape\n",
        "  x = np.array(torch.reshape(x, [-1]))\n",
        "  swish_v = np.vectorize(swish_unv)\n",
        "  ret = swish_v(x)\n",
        "  ret = np.array(ret, dtype=x.dtype)\n",
        "  return torch.tensor(ret.reshape(shape))"
      ],
      "execution_count": null,
      "outputs": []
    },
    {
      "cell_type": "code",
      "metadata": {
        "id": "6ERpPZlRGlW7"
      },
      "source": [
        "assert torch.allclose(\n",
        "    swish(torch.tensor([1, 1, 1], dtype=torch.float32)), \n",
        "    torch.tensor([0.7311, 0.7311, 0.7311]), \n",
        "    atol=1e-4\n",
        ")\n",
        "\n",
        "assert torch.allclose(\n",
        "    swish(torch.tensor([0.6376, 0.4021, 0.6656, 0.3726], dtype=torch.float64)), \n",
        "    torch.tensor([0.4171, 0.2409, 0.4396, 0.2206], dtype=torch.float64), \n",
        "    atol=1e-4\n",
        ")"
      ],
      "execution_count": null,
      "outputs": []
    },
    {
      "cell_type": "markdown",
      "metadata": {
        "id": "VY59uP3JGlXN"
      },
      "source": [
        "### Пишем Adam и применяем его к логистической регрессии (4 балла)\n",
        "\n",
        "\n",
        "В данной секции вам нужно сделать две вещи: \n",
        "\n",
        "1. Написать свой собственный оптимизатор подобно тому, который мы писали на семинаре\n",
        "2. Обучить логистическую регрессию побатчево на картинках из датасета \n",
        "\n",
        "\n",
        "#### Adam\n",
        "\n",
        "\n",
        "$$\n",
        "\\begin{eqnarray}\n",
        "g &=& \\frac{1}{m}\\nabla_w \\sum_i L(f(x_{i};w), y_{i}) \\\\\n",
        "m &=& \\beta_1 m + (1 - \\beta_1) g \\\\\n",
        "v &=& \\beta_2 v + (1 - \\beta_2) diag(gg^{T}) \\\\\n",
        "\\hat{m} &=& \\frac{m}{1 - \\beta_1^{t}} \\\\\n",
        "\\hat{v} &=& \\frac{v}{1 - \\beta_2^{t}} \\\\\n",
        "w &=& w - \\frac{\\eta}{\\sqrt{\\hat{v} + \\epsilon}} \\odot \\hat{m}\n",
        "\\end{eqnarray}\n",
        "$$"
      ]
    },
    {
      "cell_type": "code",
      "metadata": {
        "id": "Uw11lv_jGlXQ"
      },
      "source": [
        "# абстрактный класс, не обращайте внимания\n",
        "from torch.optim import Optimizer\n",
        "\n",
        "\n",
        "class InClassOptimizer(Optimizer):\n",
        "    def step(self):\n",
        "        \"\"\"Perform single optimization step.\"\"\"\n",
        "        with torch.no_grad(): # выключим градиенты\n",
        "            for group in self.param_groups:\n",
        "                self._group_step(group)\n",
        "\n",
        "    def _group_step(self, group):\n",
        "        # group ~ dict[str, ...]\n",
        "        \"\"\"\n",
        "        Private helper function to perform\n",
        "        single optimization step on model parameters.\n",
        "        \"\"\"\n",
        "        raise NotImplementedError()"
      ],
      "execution_count": null,
      "outputs": []
    },
    {
      "cell_type": "markdown",
      "metadata": {
        "id": "BB_s7CiBGlXe"
      },
      "source": [
        "**Task**: Напишите свою реализацию Adam:"
      ]
    },
    {
      "cell_type": "code",
      "metadata": {
        "id": "l3mO-v2GGlXg"
      },
      "source": [
        "class Adam(InClassOptimizer):\n",
        "    def __init__(self, params, lr=0.001, eps=1e-13, beta_1=0.9, beta_2=0.999):\n",
        "        defaults = dict(lr=lr, eps=eps, beta_1=beta_1, beta_2=beta_2)\n",
        "        super().__init__(params, defaults)\n",
        "        self.t = 0\n",
        "\n",
        "    def _group_step(self, group):\n",
        "        # One group contains information about values passed in init\n",
        "        # and model parameters to update\n",
        "        lr = group['lr']\n",
        "        eps = group['eps']\n",
        "        beta_1 = group['beta_1']\n",
        "        beta_2 = group['beta_2']\n",
        "\n",
        "        if 'm' not in group:\n",
        "          group['m'] = []\n",
        "        for param in group['params']:\n",
        "          group['m'].append(torch.zeros_like(param))\n",
        "            \n",
        "        if 'v' not in group:\n",
        "          group['v'] = []\n",
        "        for param in group['params']:\n",
        "          group['v'].append(torch.zeros_like(param))\n",
        "\n",
        "        for param, m, v in filter(lambda x: x[0].grad is not None, zip(group['params'], group['m'], group['v'])):\n",
        "            self._init_adam_buffer(param)\n",
        "            d_param = param.grad\n",
        "            buffer = self._get_adam_buffer(param)\n",
        "            buffer.add_(d_param ** 2)\n",
        "            self.t += 1\n",
        "            \n",
        "            m = beta_1 * m + (1 - beta_1) * d_param\n",
        "            v = beta_2 * v + (1 - beta_2) * np.power(d_param, 2)\n",
        "            m_h = m / (1 - np.power(beta_1, self.t))\n",
        "            v_h = v / (1 - np.power(beta_2, self.t))\n",
        "            d_param /= torch.sqrt(v_h + eps)\n",
        "            param.add_(m_h, alpha=-lr)\n",
        "\n",
        "    def _get_adam_buffer(self, param):\n",
        "        \"\"\"\n",
        "        Get accumulated gradients for Adam.\n",
        "\n",
        "        Parameters\n",
        "        ----------\n",
        "        param : `torch.Tensor`, required\n",
        "            Model parameter to get accumulated gradeints for Adagrad.\n",
        "\n",
        "        Returns\n",
        "        -------\n",
        "        Accumulated Adam gradients for parameter.\n",
        "        \"\"\"\n",
        "        param_state = self.state[param]\n",
        "        return param_state['adam_buffer']\n",
        "\n",
        "    def _init_adam_buffer(self, param):\n",
        "        \"\"\"\n",
        "        Initialize accumulated gradeints for adam.\n",
        "\n",
        "        Parameters\n",
        "        ----------\n",
        "        param : `torch.Tensor`, required\n",
        "            Model parameter to get accumulated gradeints for adam.\n",
        "        \"\"\"\n",
        "        param_state = self.state[param]\n",
        "        if 'adam_buffer' not in param_state:\n",
        "            param_state['adam_buffer'] = torch.zeros_like(param)"
      ],
      "execution_count": null,
      "outputs": []
    },
    {
      "cell_type": "code",
      "metadata": {
        "id": "Dj8BpMHE1sLa"
      },
      "source": [
        "# check it out\n",
        "\n",
        "from sklearn.datasets import make_regression\n",
        "\n",
        "\n",
        "def seed_everything(seed: int):\n",
        "    # Зафиксировать seed.\n",
        "    # Это понадобится, чтобы убедиться\n",
        "    # в правильности работы нашего Optimizer\n",
        "    random.seed(seed)\n",
        "    os.environ[\"PYTHONHASHSEED\"] = str(seed)\n",
        "    np.random.seed(seed)\n",
        "    torch.manual_seed(seed)\n",
        "    torch.cuda.manual_seed(seed)\n",
        "    torch.backends.cudnn.deterministic = True\n",
        "\n",
        "\n",
        "# make_regression возвращает 2 переменные: данные и таргет для них\n",
        "# так как они возвращаётся как np.array,\n",
        "# вызовем для каждого из них команду torch.from_numpy\n",
        "X, y = map(\n",
        "    lambda x: torch.from_numpy(x).float(),\n",
        "    make_regression(n_samples=200, n_features=2)\n",
        ")\n",
        "\n",
        "\n",
        "def get_model():\n",
        "    # Таким образом, мы при каждом вызове будем получить\n",
        "    # модель с одной и той же инициализацией весов\n",
        "    seed_everything(13)\n",
        "    return torch.nn.Sequential(\n",
        "        torch.nn.Linear(2, 10),\n",
        "        torch.nn.Linear(10, 1)\n",
        "    )\n",
        "\n",
        "def check_optimizer(model, optim, num_iter):\n",
        "    loss = torch.nn.MSELoss()\n",
        "    for i in range(num_iter):\n",
        "        output = loss(model(X), y.unsqueeze(-1))\n",
        "        output.backward()\n",
        "        optim.step()\n",
        "        optim.zero_grad()\n",
        "        if i % 100 == 0:\n",
        "            print(f'Iteration {i} loss:', output.item())\n"
      ],
      "execution_count": null,
      "outputs": []
    },
    {
      "cell_type": "code",
      "metadata": {
        "id": "lduTehzCQS07",
        "outputId": "3c1bf751-c9a9-43ab-b392-22ea2db26d98",
        "colab": {
          "base_uri": "https://localhost:8080/"
        }
      },
      "source": [
        "model = get_model()\n",
        "optim = Adam(model.parameters(), lr=0.001)\n",
        "check_optimizer(model, optim, num_iter=1000)"
      ],
      "execution_count": null,
      "outputs": [
        {
          "output_type": "stream",
          "text": [
            "Iteration 0 loss: 3175.277587890625\n",
            "Iteration 100 loss: 2744.19091796875\n",
            "Iteration 200 loss: 1065.5157470703125\n",
            "Iteration 300 loss: 71.61048126220703\n",
            "Iteration 400 loss: 4.205193519592285\n",
            "Iteration 500 loss: 0.3999098241329193\n",
            "Iteration 600 loss: 0.04185725376009941\n",
            "Iteration 700 loss: 0.004416357725858688\n",
            "Iteration 800 loss: 0.0004659622209146619\n",
            "Iteration 900 loss: 4.91853388666641e-05\n"
          ],
          "name": "stdout"
        }
      ]
    },
    {
      "cell_type": "code",
      "metadata": {
        "id": "PhLy5oy1QSQR",
        "outputId": "71b1c53d-79d0-4be6-c3ed-0c13ac6ca56a",
        "colab": {
          "base_uri": "https://localhost:8080/"
        }
      },
      "source": [
        "model = get_model()\n",
        "optim = torch.optim.Adam(model.parameters(), lr=0.001)\n",
        "check_optimizer(model, optim, num_iter=1000)"
      ],
      "execution_count": null,
      "outputs": [
        {
          "output_type": "stream",
          "text": [
            "Iteration 0 loss: 3175.277587890625\n",
            "Iteration 100 loss: 3111.456298828125\n",
            "Iteration 200 loss: 3005.513671875\n",
            "Iteration 300 loss: 2837.082275390625\n",
            "Iteration 400 loss: 2608.185791015625\n",
            "Iteration 500 loss: 2330.712158203125\n",
            "Iteration 600 loss: 2022.9498291015625\n",
            "Iteration 700 loss: 1703.9083251953125\n",
            "Iteration 800 loss: 1390.928955078125\n",
            "Iteration 900 loss: 1098.656982421875\n"
          ],
          "name": "stdout"
        }
      ]
    },
    {
      "cell_type": "markdown",
      "metadata": {
        "id": "4M7uxZhsGlXv"
      },
      "source": [
        "**Task**: Создайте параметры для обучения логистической регрессии, сделаем Xavier ициализацию, которая выглядит следующим образом: \n",
        "\n",
        "$$w \\sim U[-\\frac{\\sqrt{6}}{\\sqrt{n_{in} + n_{out}}}, \\frac{\\sqrt{6}}{\\sqrt{n_{in} + n_{out}}}]$$\n",
        "\n",
        "где: \n",
        "\n",
        "* $n_{in}$ -- размер входа (в нейронах) \n",
        "* $n_{out}$ -- размер выхода (в нейронах)\n",
        "\n",
        "Подумайте над выбором $n_{in}$ и $n_{out}$ самостоятельно. "
      ]
    },
    {
      "cell_type": "code",
      "metadata": {
        "id": "az1HytnbGlXx"
      },
      "source": [
        "def xavier(n_l, n_r):\n",
        "  return torch.Tensor(n_l*n_l, 1).uniform_(-1, 1) * math.sqrt(6/(n_l + n_r))\n",
        "\n",
        "\n",
        "n_in = 28*28 # size of images in Fashion-MNIST\n",
        "n_out = 10 # number of classes in Fashion-MNIST\n",
        "weights = xavier(n_in, n_out)\n",
        "intercept = xavier(n_in, n_out)"
      ],
      "execution_count": null,
      "outputs": []
    },
    {
      "cell_type": "code",
      "metadata": {
        "id": "YWeCLybhGlYA"
      },
      "source": [
        "optimizer = Adam([weights, intercept])\n",
        "loss = nn.CrossEntropyLoss()"
      ],
      "execution_count": null,
      "outputs": []
    },
    {
      "cell_type": "markdown",
      "metadata": {
        "id": "Ft5RTGFvGlYR"
      },
      "source": [
        "Загрузим данные и создадим даталоадеры:"
      ]
    },
    {
      "cell_type": "code",
      "metadata": {
        "id": "kIGDOizQGlYU",
        "outputId": "a51ee4ac-75f0-43ad-eca8-fc875655e416",
        "colab": {
          "base_uri": "https://localhost:8080/",
          "height": 385,
          "referenced_widgets": [
            "1f46d99660434d35a4b33afa669c3e53",
            "4548cebf3fad483396bcb6e239fa7e9e",
            "0fcf4a1f93c74e28a49b9d5270c0df55",
            "5e22a345b7434afbbc8962290335f153",
            "de0447a69f3d46e39102992da5861e8f",
            "f3ad57ef6e384f2fb7febdf93d65f5d3",
            "cb300c33c23c496eb94ffa1603fb6716",
            "bb544903f7374283bd0893310b855d7c",
            "9e258bfe4ba14ef697220fa79a47f7c1",
            "bbf461eb0f0044298f694310fd688b4d",
            "4a5f7c6ce342425e91dd16ed64b2b29c",
            "bfaa334d0b7040d0bdb7b610cd9042bb",
            "16e8486e235840abac8e7672ac1026c1",
            "ebfcf89c7b1d4770a30ad9ccb8cf87e8",
            "937da7d930664c519d520c107167e0a3",
            "dabee2dc6bd145109a925d90165f630d",
            "61b227df2319439189f8d73bc5496d51",
            "864cadb5d25f42fbb7da3d2ff25c0d2e",
            "9e9e68166d1e4e9d9e7bdc5217712499",
            "c48c507667b24c99a5387070e8a00aae",
            "abdf049459724a7397c5a81dc3cdd8ad",
            "36cf83991b064e3ba5d2bc8ddc4152aa",
            "e54f63b3d2c741a2a3ce4c20698082ca",
            "37173c0bacd847d0b5b41cb345b39357",
            "6fbf2d5d129547239c9ce598d7a98dbc",
            "87428a71e9ff4df686609ac19966e7fd",
            "25f56f2840a94877911b427eaae0ceb9",
            "d80b061d057c42b49174a58b9cf81828",
            "63a9d9e3b35f40508c268b8d38347bef",
            "7c21dad4b2da4bbbae3b9cf9dd5a043a",
            "ec7ddb3a22664393a91359f66258638b",
            "2c21cd1dc32248a5a061d621cb41f4e2"
          ]
        }
      },
      "source": [
        "fashion_mnist_train = torchvision.datasets.FashionMNIST(\n",
        "    './data',\n",
        "    download=True,\n",
        "    transform=transforms.Compose([transforms.ToTensor()])\n",
        ")\n",
        "train_dataloader = DataLoader(\n",
        "    fashion_mnist_train, batch_size=128, shuffle=True, num_workers=2\n",
        ")\n",
        "\n",
        "fashion_mnist_eval = torchvision.datasets.FashionMNIST(\n",
        "    './data',\n",
        "    train=False,\n",
        "    download=True,\n",
        "    transform=transforms.Compose([transforms.ToTensor()])\n",
        ")\n",
        "\n",
        "eval_dataloader = DataLoader(\n",
        "    fashion_mnist_eval, batch_size=128, num_workers=2\n",
        ")"
      ],
      "execution_count": null,
      "outputs": [
        {
          "output_type": "stream",
          "text": [
            "Downloading http://fashion-mnist.s3-website.eu-central-1.amazonaws.com/train-images-idx3-ubyte.gz to ./data/FashionMNIST/raw/train-images-idx3-ubyte.gz\n"
          ],
          "name": "stdout"
        },
        {
          "output_type": "display_data",
          "data": {
            "application/vnd.jupyter.widget-view+json": {
              "model_id": "1f46d99660434d35a4b33afa669c3e53",
              "version_minor": 0,
              "version_major": 2
            },
            "text/plain": [
              "HBox(children=(FloatProgress(value=1.0, bar_style='info', max=1.0), HTML(value='')))"
            ]
          },
          "metadata": {
            "tags": []
          }
        },
        {
          "output_type": "stream",
          "text": [
            "Extracting ./data/FashionMNIST/raw/train-images-idx3-ubyte.gz to ./data/FashionMNIST/raw\n",
            "Downloading http://fashion-mnist.s3-website.eu-central-1.amazonaws.com/train-labels-idx1-ubyte.gz to ./data/FashionMNIST/raw/train-labels-idx1-ubyte.gz\n"
          ],
          "name": "stdout"
        },
        {
          "output_type": "display_data",
          "data": {
            "application/vnd.jupyter.widget-view+json": {
              "model_id": "9e258bfe4ba14ef697220fa79a47f7c1",
              "version_minor": 0,
              "version_major": 2
            },
            "text/plain": [
              "HBox(children=(FloatProgress(value=1.0, bar_style='info', max=1.0), HTML(value='')))"
            ]
          },
          "metadata": {
            "tags": []
          }
        },
        {
          "output_type": "stream",
          "text": [
            "Extracting ./data/FashionMNIST/raw/train-labels-idx1-ubyte.gz to ./data/FashionMNIST/raw\n",
            "Downloading http://fashion-mnist.s3-website.eu-central-1.amazonaws.com/t10k-images-idx3-ubyte.gz to ./data/FashionMNIST/raw/t10k-images-idx3-ubyte.gz\n"
          ],
          "name": "stdout"
        },
        {
          "output_type": "display_data",
          "data": {
            "application/vnd.jupyter.widget-view+json": {
              "model_id": "61b227df2319439189f8d73bc5496d51",
              "version_minor": 0,
              "version_major": 2
            },
            "text/plain": [
              "HBox(children=(FloatProgress(value=1.0, bar_style='info', max=1.0), HTML(value='')))"
            ]
          },
          "metadata": {
            "tags": []
          }
        },
        {
          "output_type": "stream",
          "text": [
            "Extracting ./data/FashionMNIST/raw/t10k-images-idx3-ubyte.gz to ./data/FashionMNIST/raw\n",
            "Downloading http://fashion-mnist.s3-website.eu-central-1.amazonaws.com/t10k-labels-idx1-ubyte.gz to ./data/FashionMNIST/raw/t10k-labels-idx1-ubyte.gz\n"
          ],
          "name": "stdout"
        },
        {
          "output_type": "display_data",
          "data": {
            "application/vnd.jupyter.widget-view+json": {
              "model_id": "6fbf2d5d129547239c9ce598d7a98dbc",
              "version_minor": 0,
              "version_major": 2
            },
            "text/plain": [
              "HBox(children=(FloatProgress(value=1.0, bar_style='info', max=1.0), HTML(value='')))"
            ]
          },
          "metadata": {
            "tags": []
          }
        },
        {
          "output_type": "stream",
          "text": [
            "Extracting ./data/FashionMNIST/raw/t10k-labels-idx1-ubyte.gz to ./data/FashionMNIST/raw\n",
            "Processing...\n",
            "Done!\n"
          ],
          "name": "stdout"
        },
        {
          "output_type": "stream",
          "text": [
            "/usr/local/lib/python3.6/dist-packages/torchvision/datasets/mnist.py:469: UserWarning: The given NumPy array is not writeable, and PyTorch does not support non-writeable tensors. This means you can write to the underlying (supposedly non-writeable) NumPy array using the tensor. You may want to copy the array to protect its data or make it writeable before converting it to a tensor. This type of warning will be suppressed for the rest of this program. (Triggered internally at  /pytorch/torch/csrc/utils/tensor_numpy.cpp:141.)\n",
            "  return torch.from_numpy(parsed.astype(m[2], copy=False)).view(*s)\n"
          ],
          "name": "stderr"
        }
      ]
    },
    {
      "cell_type": "markdown",
      "metadata": {
        "id": "bzeDTGfWGlYk"
      },
      "source": [
        "Напишите функцию для тренировки логистической регрессии, она должна: \n",
        "    * Делать предсказания \n",
        "    * Считать лосс \n",
        "    * Подсчитывать градиенты\n",
        "    * Делать шаг оптимизации\n",
        "    * Обнулять посчитанные градиенты\n",
        "    * Считать метрики \n",
        "    * Возвращать полученные метрики\n",
        "    \n",
        "После этого предусмотрите возможность визуализировать метрики, чтобы нарисовать картинки, а именно от вас требуется визуализировать: \n",
        "\n",
        "    * Зависимость лосса от количества итераций\n",
        "    * Зависимость доли правильных ответов от количества итераций"
      ]
    },
    {
      "cell_type": "code",
      "metadata": {
        "id": "vjakNCooGlYn",
        "outputId": "edc7afe6-a5ed-45bc-9d44-39f0d7ac4f17",
        "colab": {
          "base_uri": "https://localhost:8080/",
          "height": 135
        }
      },
      "source": [
        "def train_logistic_regression(weights, bias, batch, loss, optimizer):\n",
        "    "
      ],
      "execution_count": null,
      "outputs": [
        {
          "output_type": "error",
          "ename": "SyntaxError",
          "evalue": "ignored",
          "traceback": [
            "\u001b[0;36m  File \u001b[0;32m\"<ipython-input-170-e9f81ddfb8a6>\"\u001b[0;36m, line \u001b[0;32m2\u001b[0m\n\u001b[0;31m    \u001b[0m\n\u001b[0m    ^\u001b[0m\n\u001b[0;31mSyntaxError\u001b[0m\u001b[0;31m:\u001b[0m unexpected EOF while parsing\n"
          ]
        }
      ]
    },
    {
      "cell_type": "code",
      "metadata": {
        "id": "qK62wG9HGlY2"
      },
      "source": [
        "for epoch in range(1, 100):\n",
        "    for batch in train_dataloader:\n",
        "        metrics = train_logistic_regression(weights, bias, batch, loss, optimizer)"
      ],
      "execution_count": null,
      "outputs": []
    },
    {
      "cell_type": "markdown",
      "metadata": {
        "id": "CmK8zl1-GlZJ"
      },
      "source": [
        "#### Вопросы к секции: \n",
        "\n",
        "* Своими словами и без математики объясните благодаря чему Adam дает несмещенную оценку на квадрат градиента\n",
        "* Когда модель начала переобучаться? Как вы это поняли? Сделайте визуализацию и докажите свою точку зрения."
      ]
    },
    {
      "cell_type": "markdown",
      "metadata": {
        "id": "bdUZpsVews2T"
      },
      "source": [
        "1) Несмещенная оценка получается из того, что все адаптивные методы оптимизации в своей основе приближают второй момент, то есть в методе приближается квадрат градиента математическим ожиданием от квадрата градиента, поэтому оценка получается несмещенная."
      ]
    },
    {
      "cell_type": "markdown",
      "metadata": {
        "id": "uBvNTXopGlZM"
      },
      "source": [
        "### Моя первая нейросеть (4 балла)"
      ]
    },
    {
      "cell_type": "markdown",
      "metadata": {
        "id": "TcDO6rbnGlZP"
      },
      "source": [
        "В данной секции вам нужно сделать следующие вещи: \n",
        "\n",
        "* Реализовать три разных архитектуры нейросетей. Эти архитектуры должны принципиально отличаться друг от друга. Разрешается одной из архитекур брать полностью полносвязную модель. Остальные две должны быть сверточными и сильно отличаться друг от друга. К примеру, одна из таких архитектур может быть VGG подобная сеть, а другая ResNet подобная архитектура. \n",
        "\n",
        "* Написать цикл для обучения которым можно обучать все три модели без изменений кода\n",
        "\n",
        "* Попробовать каждую модель с двумя оптимизаторами: RMSprop и SGD with momentum\n",
        "\n",
        "* Визуализировать результаты перфоманса каждой модели (две метрики минимум для каждого сетапа, например, лосс и долю правильных ответов). В данном пункте мы ждем от вас визуализацию зависимости метрики от номера итерации обучения.\n",
        "\n",
        "* Сделать выводы какие были модели были лучше и как вы думаете почему?"
      ]
    },
    {
      "cell_type": "code",
      "metadata": {
        "id": "fD5BY79sEgMH"
      },
      "source": [
        "# вывод графиков зависимостей loss и accuracy от итерации\n",
        "\n",
        "def plot_history(train_history, val_history, title='loss'):\n",
        "    plt.figure()\n",
        "    plt.title('{}'.format(title))\n",
        "    plt.plot(train_history, label='train', zorder=1)\n",
        "    \n",
        "    points = np.array(val_history)\n",
        "    steps = list(range(0, len(train_history) + 1, int(len(train_history) / len(val_history))))[1:]\n",
        "    \n",
        "    plt.scatter(steps, val_history, marker='+', s=180, c='orange', label='val', zorder=2)\n",
        "    plt.xlabel('train steps')\n",
        "    \n",
        "    plt.legend(loc='best')\n",
        "    plt.grid()\n",
        "\n",
        "    plt.show()"
      ],
      "execution_count": null,
      "outputs": []
    },
    {
      "cell_type": "code",
      "metadata": {
        "id": "y09dH26KWUhR"
      },
      "source": [
        "def train_model(model, dataloader, optimizer):\n",
        "    criterion = nn.CrossEntropyLoss()\n",
        "    train_loss_log = []\n",
        "    train_acc_log = []\n",
        "    val_loss_log = []\n",
        "    val_acc_log = []\n",
        "    EPOCHS = 10 \n",
        "    for epoch in range(EPOCHS):\n",
        "        model.train()\n",
        "        train_loss = 0.\n",
        "        train_size = 0\n",
        "        train_acc = 0.\n",
        "        for batch in dataloader[0]:\n",
        "            imgs, labels = batch\n",
        "            imgs = imgs.cpu()\n",
        "            labels = labels.cpu()\n",
        "\n",
        "            optimizer.zero_grad()\n",
        "            y_pred = model(imgs)\n",
        "            loss = criterion(y_pred, labels)\n",
        "            loss.backward()\n",
        "            optimizer.step()\n",
        "            \n",
        "            train_loss += loss.item()\n",
        "            train_size += y_pred.size(0)\n",
        "            train_loss_log.append(loss.data / y_pred.size(0))\n",
        "\n",
        "            _, pred_classes = torch.max(y_pred, 1)\n",
        "            train_acc += (pred_classes == labels).sum().item()\n",
        "            train_acc_log.append(np.mean((pred_classes == labels).cpu().numpy()))\n",
        "\n",
        "\n",
        "        val_loss = 0.\n",
        "        val_size = 0\n",
        "        val_acc = 0.\n",
        "        model.eval()\n",
        "        \n",
        "        with torch.no_grad():\n",
        "            for batch in dataloader[1]:\n",
        "                imgs, labels = batch\n",
        "                imgs = imgs.cpu()\n",
        "                labels = labels.cpu()\n",
        "                pred = model(imgs)\n",
        "                loss = criterion(pred, labels)\n",
        "                val_loss += loss.item()\n",
        "                val_size += pred.size(0)\n",
        "\n",
        "                _, pred_classes = torch.max(pred, 1)\n",
        "                val_acc += (pred_classes == labels).sum().item()\n",
        "        val_loss_log.append(val_loss / val_size)\n",
        "        val_acc_log.append(val_acc / val_size)\n",
        "\n",
        "        clear_output()\n",
        "        plot_history(train_loss_log, val_loss_log, 'loss')\n",
        "        plot_history(train_acc_log, val_acc_log, 'accuracy')\n",
        "\n",
        "        print('Train loss:', train_loss / train_size)\n",
        "        print('Train acc:', train_acc / train_size)\n",
        "        print('Val loss:', val_loss / val_size)\n",
        "        print('Val acc:', val_acc / val_size) "
      ],
      "execution_count": null,
      "outputs": []
    },
    {
      "cell_type": "code",
      "metadata": {
        "id": "Is7qHtarGlZg",
        "outputId": "73825be4-43de-46ab-d658-5931b7bdcf16",
        "colab": {
          "base_uri": "https://localhost:8080/",
          "height": 146
        }
      },
      "source": [
        "# fully - connected NN\n",
        "class FirstModel(nn.Module):\n",
        "    def __init__(self):\n",
        "        super(FirstModel, self).__init__()\n",
        "        self.fc1 = nn.Linear(28*28*1, 128)\n",
        "        self.relu = nn.ReLU()\n",
        "        self.fc2 = nn.Linear(128, 10)\n",
        "        self.softmax = nn.Softmax()\n",
        "\n",
        "        \n",
        "    def forward(self, x):\n",
        "        x = nn.Flatten()(x)\n",
        "        x = self.relu(self.fc1(x))\n",
        "        x = self.softmax(self.fc2(x))\n",
        "        return x\n",
        "        "
      ],
      "execution_count": null,
      "outputs": [
        {
          "output_type": "execute_result",
          "data": {
            "application/vnd.google.colaboratory.intrinsic+json": {
              "type": "string"
            },
            "text/plain": [
              "\"\\nclass FirstSimpleNet(torch.nn.Module):\\n    def __init__(self, encoder):\\n        super().__init__()\\n        self._encoder = encoder\\n        self._accuracy = Accuracy()\\n\\n    def forward(self, images, target=None):\\n        # images ~ (batch size, num channels, height, width)\\n        # target ~ (batch size)\\n        # output ~ (batch size, num classes)\\n        output = self._encoder(images)\\n        output_dict = {'logits': output, 'probs': torch.softmax(output, dim=-1)}\\n        output_dict['preds'] = torch.argmax(output_dict['probs'], dim=-1)\\n        if target is not None:\\n            log_softmax = torch.log_softmax(output, dim=-1)\\n            output_dict['loss'] = F.nll_loss(log_softmax, target)\\n            self._accuracy(\\n                output_dict['preds'].cpu(),\\n                target.cpu()\\n            )\\n        return output_dict\\n\\n    def decode(self, output_dict):\\n        # output_dict ~ dict with torch.Tensors (output_dict from forward)\\n        return [idx_to_label[int(x)] for x in output_dict['preds']]\\n\\n    def get_metrics(self, reset=False):\\n        return {'accuracy': self._accuracy.get_metric(reset)}\\n\""
            ]
          },
          "metadata": {
            "tags": []
          },
          "execution_count": 17
        }
      ]
    },
    {
      "cell_type": "code",
      "metadata": {
        "id": "kRJYhIzDtTv2",
        "outputId": "f6477a32-2b83-4dd4-a845-31d9c4bb6780",
        "colab": {
          "base_uri": "https://localhost:8080/",
          "height": 646
        }
      },
      "source": [
        "# model 1, optimizer = RMSprop\n",
        "model = FirstModel()\n",
        "use_gpu = torch.cuda.is_available()\n",
        "if use_gpu:\n",
        "    device = torch.device('cuda')\n",
        "else:\n",
        "    device = torch.device('cpu')\n",
        "dataloader = (train_dataloader, eval_dataloader)\n",
        "optimizer = torch.optim.RMSprop(model.parameters(), lr=0.001)\n",
        "train_model(model, dataloader, optimizer)"
      ],
      "execution_count": null,
      "outputs": [
        {
          "output_type": "display_data",
          "data": {
            "image/png": "[encoded data removed]",
            "text/plain": [
              "<Figure size 432x288 with 1 Axes>"
            ]
          },
          "metadata": {
            "tags": [],
            "needs_background": "light"
          }
        },
        {
          "output_type": "display_data",
          "data": {
            "image/png": "[encoded data removed]",
            "text/plain": [
              "<Figure size 432x288 with 1 Axes>"
            ]
          },
          "metadata": {
            "tags": [],
            "needs_background": "light"
          }
        },
        {
          "output_type": "stream",
          "text": [
            "Train loss: 0.012374449916680654\n",
            "Train acc: 0.8808166666666667\n",
            "Val loss: 0.012745319592952728\n",
            "Val acc: 0.8487\n"
          ],
          "name": "stdout"
        }
      ]
    },
    {
      "cell_type": "code",
      "metadata": {
        "id": "GqOKZfSSFAmc",
        "outputId": "9762de23-ccb0-41e6-f048-54933a37b205",
        "colab": {
          "base_uri": "https://localhost:8080/",
          "height": 646
        }
      },
      "source": [
        "# model 1, optimizer = SGD with momentum\n",
        "model = FirstModel()\n",
        "use_gpu = torch.cuda.is_available()\n",
        "if use_gpu:\n",
        "    device = torch.device('cuda')\n",
        "else:\n",
        "    device = torch.device('cpu')\n",
        "dataloader = (train_dataloader, eval_dataloader)\n",
        "optimizer = torch.optim.SGD(model.parameters(), lr=0.001, momentum=0.9)\n",
        "train_model(model, dataloader, optimizer)"
      ],
      "execution_count": null,
      "outputs": [
        {
          "output_type": "display_data",
          "data": {
            "image/png": "[encoded data removed]",
            "text/plain": [
              "<Figure size 432x288 with 1 Axes>"
            ]
          },
          "metadata": {
            "tags": [],
            "needs_background": "light"
          }
        },
        {
          "output_type": "display_data",
          "data": {
            "image/png": "[encoded data removed]",
            "text/plain": [
              "<Figure size 432x288 with 1 Axes>"
            ]
          },
          "metadata": {
            "tags": [],
            "needs_background": "light"
          }
        },
        {
          "output_type": "stream",
          "text": [
            "Train loss: 0.01407846040527026\n",
            "Train acc: 0.6856166666666667\n",
            "Val loss: 0.014237278044223785\n",
            "Val acc: 0.6782\n"
          ],
          "name": "stdout"
        }
      ]
    },
    {
      "cell_type": "code",
      "metadata": {
        "id": "vjR0-CopGlZt"
      },
      "source": [
        "# VGG - like NN\n",
        "second_model = nn.Sequential(\n",
        "    nn.Sequential(\n",
        "            nn.Conv2d(1, 32, 3, padding=1),\n",
        "            nn.ReLU(),\n",
        "            nn.Conv2d(32, 64, 3, padding=1),\n",
        "            nn.ReLU(),\n",
        "            nn.MaxPool2d(2, 2)),\n",
        "    nn.Dropout(0.5),\n",
        "    nn.Flatten(),\n",
        "    nn.Linear(64*14*14, 128),\n",
        "    nn.ReLU(),\n",
        "    nn.Linear(128, 10),\n",
        "    nn.Softmax()\n",
        ")"
      ],
      "execution_count": null,
      "outputs": []
    },
    {
      "cell_type": "code",
      "metadata": {
        "id": "NYHtOcwYrIZD",
        "outputId": "01d195a6-6d0e-46d0-93c9-92ccf4383efc",
        "colab": {
          "base_uri": "https://localhost:8080/",
          "height": 646
        }
      },
      "source": [
        "# model 2, optimizer = RMSprop\n",
        "model = second_model\n",
        "use_gpu = torch.cuda.is_available()\n",
        "if use_gpu:\n",
        "    device = torch.device('cuda')\n",
        "else:\n",
        "    device = torch.device('cpu')\n",
        "dataloader = (train_dataloader, eval_dataloader)\n",
        "optimizer = torch.optim.RMSprop(model.parameters(), lr=0.1)\n",
        "train_model(model, dataloader, optimizer)"
      ],
      "execution_count": null,
      "outputs": [
        {
          "output_type": "display_data",
          "data": {
            "image/png": "[encoded data removed]",
            "text/plain": [
              "<Figure size 432x288 with 1 Axes>"
            ]
          },
          "metadata": {
            "tags": [],
            "needs_background": "light"
          }
        },
        {
          "output_type": "display_data",
          "data": {
            "image/png": "[encoded data removed]",
            "text/plain": [
              "<Figure size 432x288 with 1 Axes>"
            ]
          },
          "metadata": {
            "tags": [],
            "needs_background": "light"
          }
        },
        {
          "output_type": "stream",
          "text": [
            "Train loss: 0.018456225248177846\n",
            "Train acc: 0.1\n",
            "Val loss: 0.01864543571472168\n",
            "Val acc: 0.1\n"
          ],
          "name": "stdout"
        }
      ]
    },
    {
      "cell_type": "code",
      "metadata": {
        "id": "5NqalqT7wCqq",
        "outputId": "16a41df6-dea0-4227-a2d9-9c87ffd32617",
        "colab": {
          "base_uri": "https://localhost:8080/",
          "height": 646
        }
      },
      "source": [
        "# model 2, optimizer = SGD with momentum\n",
        "model = second_model\n",
        "use_gpu = torch.cuda.is_available()\n",
        "if use_gpu:\n",
        "    device = torch.device('cuda')\n",
        "else:\n",
        "    device = torch.device('cpu')\n",
        "dataloader = (train_dataloader, eval_dataloader)\n",
        "optimizer = torch.optim.SGD(model.parameters(), lr=0.001, momentum=0.9)\n",
        "train_model(model, dataloader, optimizer)"
      ],
      "execution_count": null,
      "outputs": [
        {
          "output_type": "display_data",
          "data": {
            "image/png": "[encoded data removed]",
            "text/plain": [
              "<Figure size 432x288 with 1 Axes>"
            ]
          },
          "metadata": {
            "tags": [],
            "needs_background": "light"
          }
        },
        {
          "output_type": "display_data",
          "data": {
            "image/png": "[encoded data removed]",
            "text/plain": [
              "<Figure size 432x288 with 1 Axes>"
            ]
          },
          "metadata": {
            "tags": [],
            "needs_background": "light"
          }
        },
        {
          "output_type": "stream",
          "text": [
            "Train loss: 0.01309891125758489\n",
            "Train acc: 0.7931\n",
            "Val loss: 0.01316530624628067\n",
            "Val acc: 0.8004\n"
          ],
          "name": "stdout"
        }
      ]
    },
    {
      "cell_type": "code",
      "metadata": {
        "id": "RkDr0llR6k1n"
      },
      "source": [
        "# ResNet - like NN\n",
        "class ThirdModel(nn.Module):\n",
        "  def __init__(self):\n",
        "        super(ThirdModel, self).__init__()\n",
        "        self.conv1 = nn.Conv2d(1, 32, 3, padding=1)\n",
        "        self.relu = nn.ReLU()\n",
        "        self.conv2 = nn.Conv2d(32, 64, 3, padding=1)\n",
        "        self.conv3 = nn.Conv2d(64, 128, 3, padding=1)\n",
        "        self.fc1 = nn.Linear(128*3*3, 512)\n",
        "        self.fc2 = nn.Linear(512, 10)\n",
        "        \n",
        "  def forward(self, x):\n",
        "        x = F.max_pool2d(self.relu(self.conv1(x)), 2)\n",
        "        x = F.max_pool2d(self.relu(self.conv2(x)), 2)\n",
        "        x1 = torch.empty(x.shape)\n",
        "        x1.copy_(x)\n",
        "        x = self.conv3(x) \n",
        "        x1 = F.pad(x1, (0, 0, 0, 0, 32, 32, 0, 0), \"constant\", 0) # x и x1 должны быть одинаковой размерности\n",
        "        x = F.max_pool2d(self.relu(x + x1), 2)\n",
        "        x = x.view(-1, 128*3*3)\n",
        "        x = self.relu(self.fc1(x))\n",
        "        x = self.fc2(x)\n",
        "        return x\n"
      ],
      "execution_count": null,
      "outputs": []
    },
    {
      "cell_type": "code",
      "metadata": {
        "id": "vMwjbHSNn3FK",
        "outputId": "3d2dcee5-b747-4a30-ce93-99f9c97d5f8b",
        "colab": {
          "base_uri": "https://localhost:8080/",
          "height": 646
        }
      },
      "source": [
        "# model 3, optimizer = RMSprop\n",
        "model = ThirdModel()\n",
        "use_gpu = torch.cuda.is_available()\n",
        "if use_gpu:\n",
        "    device = torch.device('cuda')\n",
        "else:\n",
        "    device = torch.device('cpu')\n",
        "dataloader = (train_dataloader, eval_dataloader)\n",
        "optimizer = torch.optim.RMSprop(model.parameters(), lr=0.001)\n",
        "train_model(model, dataloader, optimizer)"
      ],
      "execution_count": null,
      "outputs": [
        {
          "output_type": "display_data",
          "data": {
            "image/png": "[encoded data removed]",
            "text/plain": [
              "<Figure size 432x288 with 1 Axes>"
            ]
          },
          "metadata": {
            "tags": [],
            "needs_background": "light"
          }
        },
        {
          "output_type": "display_data",
          "data": {
            "image/png": "[encoded data removed]",
            "text/plain": [
              "<Figure size 432x288 with 1 Axes>"
            ]
          },
          "metadata": {
            "tags": [],
            "needs_background": "light"
          }
        },
        {
          "output_type": "stream",
          "text": [
            "Train loss: 0.0009747702651967605\n",
            "Train acc: 0.9534666666666667\n",
            "Val loss: 0.0025202620163559913\n",
            "Val acc: 0.8946\n"
          ],
          "name": "stdout"
        }
      ]
    },
    {
      "cell_type": "code",
      "metadata": {
        "id": "u360_-Nb8PUn",
        "outputId": "b80a21a6-88c3-4943-f808-0ae449e516d0",
        "colab": {
          "base_uri": "https://localhost:8080/",
          "height": 646
        }
      },
      "source": [
        "# model 3, optimizer = SGD with momentum\n",
        "model = ThirdModel()\n",
        "use_gpu = torch.cuda.is_available()\n",
        "if use_gpu:\n",
        "    device = torch.device('cuda')\n",
        "else:\n",
        "    device = torch.device('cpu')\n",
        "dataloader = (train_dataloader, eval_dataloader)\n",
        "optimizer = torch.optim.SGD(model.parameters(), lr=0.001, momentum=0.9)\n",
        "train_model(model, dataloader, optimizer)"
      ],
      "execution_count": null,
      "outputs": [
        {
          "output_type": "display_data",
          "data": {
            "image/png": "[encoded data removed]",
            "text/plain": [
              "<Figure size 432x288 with 1 Axes>"
            ]
          },
          "metadata": {
            "tags": [],
            "needs_background": "light"
          }
        },
        {
          "output_type": "display_data",
          "data": {
            "image/png": "[encoded data removed]",
            "text/plain": [
              "<Figure size 432x288 with 1 Axes>"
            ]
          },
          "metadata": {
            "tags": [],
            "needs_background": "light"
          }
        },
        {
          "output_type": "stream",
          "text": [
            "Train loss: 0.003371498939394951\n",
            "Train acc: 0.8452\n",
            "Val loss: 0.003439140675961971\n",
            "Val acc: 0.8453\n"
          ],
          "name": "stdout"
        }
      ]
    },
    {
      "cell_type": "code",
      "metadata": {
        "id": "gKm0ms91GlaE"
      },
      "source": [
        "# train and visualize and write summary down there"
      ],
      "execution_count": null,
      "outputs": []
    },
    {
      "cell_type": "markdown",
      "metadata": {
        "id": "1A0Ioxge5Zbb"
      },
      "source": [
        "Наилучший результат показала модель 3 (ResNet-like) с RMSprop оптимизатором (accuracy = 89%, loss = 0.2%). \\\\\n",
        "Второй результат также у третьей модели с оптимизатором SGD with momentum и  с accuracy = 84%, loss = 0.3% \\\\\n",
        "Такие результаты могли получиться из - за особеннности архитектуры ResNet - учитывая выход не только последнего слоя, но и предпоследнего, удается избежать переобучения (даже при гораздо большем числе слоев, чем в модели 3). Поэтому ResNet - подобная модель обучается лучше."
      ]
    }
  ]
}