{
  "nbformat": 4,
  "nbformat_minor": 0,
  "metadata": {
    "kernelspec": {
      "display_name": "Python 3",
      "language": "python",
      "name": "python3"
    },
    "language_info": {
      "codemirror_mode": {
        "name": "ipython",
        "version": 3
      },
      "file_extension": ".py",
      "mimetype": "text/x-python",
      "name": "python",
      "nbconvert_exporter": "python",
      "pygments_lexer": "ipython3",
      "version": "3.7.1"
    },
    "colab": {
      "name": "hw1.ipynb",
      "provenance": []
    }
  },
  "cells": [
    {
      "cell_type": "markdown",
      "metadata": {
        "id": "dXe6Zucpo31G"
      },
      "source": [
        "## Введение в анализ данных, ИАД-2\n",
        "\n",
        "## НИУ ВШЭ, 2019-20 учебный год"
      ]
    },
    {
      "cell_type": "markdown",
      "metadata": {
        "id": "Onj-SWwLo31N"
      },
      "source": [
        "### Домашнее задание №1"
      ]
    },
    {
      "cell_type": "markdown",
      "metadata": {
        "id": "UWLieBV-o31P"
      },
      "source": [
        "Задание выполнил(а): Суховерхова Диана Дмитриевна"
      ]
    },
    {
      "cell_type": "markdown",
      "metadata": {
        "id": "1wLSaUSLo31Q"
      },
      "source": [
        "### Общая информация"
      ]
    },
    {
      "cell_type": "markdown",
      "metadata": {
        "id": "f_YHRUPno31S"
      },
      "source": [
        "__Дата выдачи:__ 05.02.2020\n",
        "\n",
        "__Дедлайн:__ 15.02.2020 23:59"
      ]
    },
    {
      "cell_type": "markdown",
      "metadata": {
        "id": "tPEJnbWuo31T"
      },
      "source": [
        "### О задании"
      ]
    },
    {
      "cell_type": "markdown",
      "metadata": {
        "id": "k5pPBftbo31U"
      },
      "source": [
        "В этом домашнем задании вы попрактикуетесь в работе с библиотеками numpy, pandas и matplotlib, а в качестве бонусного задания сможете реализовать алгоритм KNN."
      ]
    },
    {
      "cell_type": "markdown",
      "metadata": {
        "id": "VO2KM94Fo31W"
      },
      "source": [
        "### Оценивание и штрафы\n",
        "\n",
        "Каждая задача оценивается в 1 балл, за бонусную часть можно получить 1 балл.\n",
        "\n",
        "Оценка за ДЗ вычисляется по следующей формуле:\n",
        "\n",
        "$$\n",
        "\\left(\\min(9, s_{\\text{numpy}}) + \\min(12, s_{\\text{pandas}})\\right) \\times 10 / 21,\n",
        "$$\n",
        "\n",
        "где $s_{\\text{numpy}}$ и $s_{\\text{pandas}}$ — количество баллов, которое вы набрали за соответствующую часть. Задач больше, чем необходимо сделать для получения полного балла за ДЗ — вы можете сделать те, которые вам больше нравятся, или сделать все, чтобы дополнительно потренироваться. Все баллы сверх обязательных (9 в первой части и 12 во второй) идут в бонус. Таким образом, за это домашнее задание можно получить 4 бонусных балла.\n",
        "\n",
        "За сдачу задания позже срока на итоговую оценку за задание накладывается штраф в размере 1 балл в день, но получить отрицательную оценку нельзя."
      ]
    },
    {
      "cell_type": "markdown",
      "metadata": {
        "id": "6zuOYpXXo31X"
      },
      "source": [
        "__Внимание!__ Домашнее задание выполняется самостоятельно. «Похожие» решения считаются плагиатом и все задействованные студенты (в том числе те, у кого списали) не могут получить за него больше 0 баллов."
      ]
    },
    {
      "cell_type": "markdown",
      "metadata": {
        "id": "pU1laHx-o31a"
      },
      "source": [
        "### Формат сдачи"
      ]
    },
    {
      "cell_type": "markdown",
      "metadata": {
        "id": "hV4li6pjo31d"
      },
      "source": [
        "Загрузка файлов с решениями происходит в системе [Anytask](https://anytask.org/)."
      ]
    },
    {
      "cell_type": "markdown",
      "metadata": {
        "id": "HrIqatAho31e"
      },
      "source": [
        "## Часть 1. Numpy\n",
        "\n",
        "Для успешного выполнения этой части вам необходимо пройти все `assert`'ы."
      ]
    },
    {
      "cell_type": "code",
      "metadata": {
        "id": "zO85cYyHo31f"
      },
      "source": [
        "import numpy as np"
      ],
      "execution_count": null,
      "outputs": []
    },
    {
      "cell_type": "markdown",
      "metadata": {
        "id": "5tUGIzEBo31l"
      },
      "source": [
        "Во всех задачах необходимо написать код решения внутри функции и проверить его работу, вызвав функцию для данных из условия.\n",
        "\n",
        "При решении задач запрещается использовать циклы (`for`, `while`) и оператор `if`.\n",
        "\n",
        "Везде, где встречаются массивы или матрицы, подразумевается, что это `numpy.array`. "
      ]
    },
    {
      "cell_type": "markdown",
      "metadata": {
        "id": "Zy6InvsVo31m"
      },
      "source": [
        "### 1"
      ]
    },
    {
      "cell_type": "markdown",
      "metadata": {
        "id": "o_vUK6rdo31o"
      },
      "source": [
        "Напишите функцию, возвращающую округленную взвешенную сумму оценок по данным оценкам и весам. Можете посчитать свою оценку за курс :) В нашем случае вес экзамена равен 0.3, вес домашек - 0.42, вес контрольной - 0.14, вес самостоятельных - 0.14. Например, если за экзамен у вас 7, за домашки 10, за контрольную 8, а за самостоятельные 6, то вы получите отличную оценку 8!"
      ]
    },
    {
      "cell_type": "code",
      "metadata": {
        "id": "AES37KuCo31s"
      },
      "source": [
        "def result_mark(weights: np.array, marks: np.array) -> int:\n",
        "        return int(marks.dot(weights))"
      ],
      "execution_count": null,
      "outputs": []
    },
    {
      "cell_type": "code",
      "metadata": {
        "id": "UeNX4uxWo31z"
      },
      "source": [
        "weights = np.array([0.3, 0.42, 0.14, 0.14])\n",
        "marks = np.array([7, 10, 8, 6])\n",
        "\n",
        "assert result_mark(weights, marks) == 8"
      ],
      "execution_count": null,
      "outputs": []
    },
    {
      "cell_type": "code",
      "metadata": {
        "id": "SQA7eX9ao314"
      },
      "source": [
        "weights = np.array([0.3, 0.42, 0.14, 0.14])\n",
        "marks = np.array([7, 0, 8, 6])\n",
        "\n",
        "assert result_mark(weights, marks) == 4"
      ],
      "execution_count": null,
      "outputs": []
    },
    {
      "cell_type": "markdown",
      "metadata": {
        "id": "s-IBVic7o31-"
      },
      "source": [
        "### 2"
      ]
    },
    {
      "cell_type": "markdown",
      "metadata": {
        "id": "y_I54smHo31_"
      },
      "source": [
        "Напишите функцию, меняющую каждое третье (начиная с 0) значение массива целых чисел на заданное число. Например, если на вход поступает массив `array([3, 5, 1, 0, -3, 22, 213436])` и число `-111`, то на выходе должен получиться массив `array([-111, 5, 1, -111, -3, 22, -111])`."
      ]
    },
    {
      "cell_type": "code",
      "metadata": {
        "id": "hLG25bZco32B"
      },
      "source": [
        "def change_array(array: np.array, number: int) -> np.array:\n",
        "    array[::3] = number\n",
        "    return array"
      ],
      "execution_count": null,
      "outputs": []
    },
    {
      "cell_type": "code",
      "metadata": {
        "id": "xijF7fcso32I"
      },
      "source": [
        "array = np.array([3, 5, 1, 0, -3, 22, 213436])\n",
        "number = -111\n",
        "\n",
        "assert np.allclose(change_array(array, number), np.array([-111, 5, 1, -111, -3, 22, -111]))"
      ],
      "execution_count": null,
      "outputs": []
    },
    {
      "cell_type": "code",
      "metadata": {
        "id": "qZ84L-88o32P"
      },
      "source": [
        "array = np.array([3, 14, 15, 92, 6])\n",
        "number = 8\n",
        "\n",
        "assert np.allclose(change_array(array, number), np.array([8, 14, 15, 8, 6]))"
      ],
      "execution_count": null,
      "outputs": []
    },
    {
      "cell_type": "markdown",
      "metadata": {
        "id": "L6_C1xHro32U"
      },
      "source": [
        "### 3"
      ]
    },
    {
      "cell_type": "markdown",
      "metadata": {
        "id": "H5O_SWTKo32W"
      },
      "source": [
        "Напишите функцию, выдающую индексы «близких» элементов заданных массивов, а именно тех пар элементов, чей модуль разницы не превосходит заданного значения. Например, если на вход поступают массив `array([1.5, 0.5, 2, -4.1, -3, 6, -1])`, массив `array([1.2, 0.5, 1, -4, 3, 0, -1.2])` и число `0.5`, то на выходе должен получиться массив `array([0, 1, 3, 6])` (_**важно: не `tuple`, а одномерный массив типа `numpy.ndarray` (то есть `.ndim` от него равно 1)!**_)."
      ]
    },
    {
      "cell_type": "code",
      "metadata": {
        "id": "ueReKD4To32Y"
      },
      "source": [
        "def find_close(array1: np.array, array2: np.array,\n",
        "               precision: float) -> np.array:\n",
        "    array = abs(array1 - array2)\n",
        "    new = np.where(array < precision)\n",
        "    return new[0]"
      ],
      "execution_count": null,
      "outputs": []
    },
    {
      "cell_type": "code",
      "metadata": {
        "id": "5jc7q0xqo32i"
      },
      "source": [
        "array1 = np.array([1.5, 0.5, 2, -4.1, -3, 6, -1])\n",
        "array2 = np.array([1.2, 0.5, 1, -4.0,  3, 0, -1.2])\n",
        "precision = 0.5\n",
        "res = find_close(array1, array2, precision)\n",
        "\n",
        "assert res.ndim == 1\n",
        "assert np.allclose(res, np.array([0, 1, 3, 6]))"
      ],
      "execution_count": null,
      "outputs": []
    },
    {
      "cell_type": "code",
      "metadata": {
        "id": "FvkcFkeio32p"
      },
      "source": [
        "array1 = np.array([3.1415, 2.7182, 1.6180, 6.6261])\n",
        "array2 = np.array([6.6730, 1.3807, -1,     6.0222])\n",
        "precision = 1.7\n",
        "res = find_close(array1, array2, precision)\n",
        "\n",
        "assert res.ndim == 1\n",
        "assert np.allclose(res, np.array([1, 3]))"
      ],
      "execution_count": null,
      "outputs": []
    },
    {
      "cell_type": "markdown",
      "metadata": {
        "id": "OF-WNBSYo320"
      },
      "source": [
        "### 4"
      ]
    },
    {
      "cell_type": "markdown",
      "metadata": {
        "id": "ZEzLw8Quo321"
      },
      "source": [
        "Напишите функцию, которая составляет блочную матрицу из четырех блоков, где каждый блок - это заданная матрица. Например, если на вход поступает матрица\n",
        "$$\n",
        "\\begin{pmatrix}\n",
        "0 & 1 & 2\\\\\n",
        "3 & 4 & 5\\\\\n",
        "\\end{pmatrix},\n",
        "$$\n",
        "то ответом будет матрица\n",
        "$$\n",
        "\\begin{pmatrix}\n",
        "0 & 1 & 2 & 0 & 1 & 2\\\\\n",
        "3 & 4 & 5 & 3 & 4 & 5\\\\\n",
        "0 & 1 & 2 & 0 & 1 & 2\\\\\n",
        "3 & 4 & 5 & 3 & 4 & 5\\\\\n",
        "\\end{pmatrix}\n",
        "$$"
      ]
    },
    {
      "cell_type": "code",
      "metadata": {
        "id": "RdSBn93Uo323"
      },
      "source": [
        "def block_matrix(block: np.array) -> np.array:\n",
        "    first = np.concatenate([block, block], axis=0)\n",
        "    new = np.concatenate([first, first], axis=1)\n",
        "    return new"
      ],
      "execution_count": null,
      "outputs": []
    },
    {
      "cell_type": "code",
      "metadata": {
        "id": "WMSmSORVo326"
      },
      "source": [
        "block = np.array([[1, 3, 3], [7, 0, 0]])\n",
        "\n",
        "assert np.allclose(\n",
        "    block_matrix(block),\n",
        "    np.array([[1, 3, 3, 1, 3, 3],\n",
        "              [7, 0, 0, 7, 0, 0],\n",
        "              [1, 3, 3, 1, 3, 3],\n",
        "              [7, 0, 0, 7, 0, 0]])\n",
        ")"
      ],
      "execution_count": null,
      "outputs": []
    },
    {
      "cell_type": "markdown",
      "metadata": {
        "id": "ziAl8VIio33A"
      },
      "source": [
        "### 5"
      ]
    },
    {
      "cell_type": "markdown",
      "metadata": {
        "id": "ySigw9Ivo33B"
      },
      "source": [
        "Напишите функцию, вычисляющую произведение всех ненулевых диагональных элементов на диагонали данной квадратной матрицы. Например, если на вход поступает матрица\n",
        "$$\n",
        "\\begin{pmatrix}\n",
        "0 & 1 & 2\\\\\n",
        "3 & 4 & 5\\\\\n",
        "6 & 7 & 8\\\\\n",
        "\\end{pmatrix},\n",
        "$$\n",
        "то ответом будет 32.\n",
        "\n",
        "Элементы матрицы считать целочисленными."
      ]
    },
    {
      "cell_type": "code",
      "metadata": {
        "id": "aNYARp9Ho33C"
      },
      "source": [
        "def diag_prod(matrix: np.array) -> int:\n",
        "    d = np.diag(matrix)\n",
        "    boo = d[d != 0]\n",
        "    return np.prod(boo)"
      ],
      "execution_count": null,
      "outputs": []
    },
    {
      "cell_type": "code",
      "metadata": {
        "id": "weUU_R0fo33H"
      },
      "source": [
        "matrix = np.array([[0, 1, 2, 3],\n",
        "                   [4, 5, 6, 7],\n",
        "                   [8, 9, 10, 11],\n",
        "                   [12, 13, 14, 15]])\n",
        "\n",
        "assert diag_prod(matrix) == 750"
      ],
      "execution_count": null,
      "outputs": []
    },
    {
      "cell_type": "markdown",
      "metadata": {
        "id": "kR5t1rFbo33L"
      },
      "source": [
        "### 6"
      ]
    },
    {
      "cell_type": "markdown",
      "metadata": {
        "id": "2mqkP2zHo33M"
      },
      "source": [
        "Для улучшения качества работы некоторых алгоритмов машинного обучения может быть полезно использовать [нормализацию данных](https://vk.cc/8xmfQk), чтобы привести признаки в выборке к одному масштабу — а именно, из каждого столбца вычесть среднее его значений и поделить на их стандартное отклонение. Напишите функцию, нормализующую входящую матрицу (по столбцам). Например, если на вход подается матрица \n",
        "$$\n",
        "\\begin{pmatrix}\n",
        "1 & 4 & 4200\\\\\n",
        "0 & 10 & 5000\\\\\n",
        "1 & 2 & 1000\\\\\n",
        "\\end{pmatrix},\n",
        "$$\n",
        "то результатом с точностью до сотых будет матрица\n",
        "$$\n",
        "\\begin{pmatrix}\n",
        "0.71 & -0.39 & 0.46\\\\\n",
        "-1.41 & 1.37 & 0.93\\\\\n",
        "0.71 & -0.98 & -1.39\\\\\n",
        "\\end{pmatrix}\n",
        "$$\n",
        "Учтите, что в вашей матрице не должно получаться никаких nan. Подумайте, в каком случае они могут возникнуть и как обойти эту проблему.\n",
        "\n",
        "_Подсказка. Казалось бы, при чем тут деление на ноль._"
      ]
    },
    {
      "cell_type": "code",
      "metadata": {
        "id": "njsLn78Qo33Q"
      },
      "source": [
        "def normalize(matrix: np.array) -> np.array:\n",
        "    # your code here"
      ],
      "execution_count": null,
      "outputs": []
    },
    {
      "cell_type": "code",
      "metadata": {
        "id": "eKWXqbxto33U"
      },
      "source": [
        "matrix = np.array([[1, 4, 4200], [0, 10, 5000], [1, 2, 1000]])\n",
        "\n",
        "assert np.allclose(\n",
        "    normalize(matrix),\n",
        "    np.array([[ 0.7071, -0.39223,  0.46291],\n",
        "              [-1.4142,  1.37281,  0.92582],\n",
        "              [ 0.7071, -0.98058, -1.38873]])\n",
        ")"
      ],
      "execution_count": null,
      "outputs": []
    },
    {
      "cell_type": "code",
      "metadata": {
        "id": "5tXj3WBDo33Y"
      },
      "source": [
        "matrix = np.array([[-7, 2, 42], [2, 10, 50], [5, 4, 10]])\n",
        "\n",
        "assert np.allclose(\n",
        "    normalize(matrix),\n",
        "    np.array([[-1.37281, -0.98058,  0.46291],\n",
        "              [ 0.39223,  1.37281,  0.92582],\n",
        "              [ 0.98058, -0.39223, -1.38873]])\n",
        ")"
      ],
      "execution_count": null,
      "outputs": []
    },
    {
      "cell_type": "markdown",
      "metadata": {
        "id": "QfRoSZRKo33c"
      },
      "source": [
        "### 7"
      ]
    },
    {
      "cell_type": "markdown",
      "metadata": {
        "id": "AD_hOIXao33d"
      },
      "source": [
        "Напишите функцию, вычисляющую какую-нибудь первообразную данного полинома (в качестве константы возьмите $0$). Например, если на вход поступает массив коэффициентов `array([4, 6, 0, 1])`, что соответствует полиному $4x^3 + 6x^2 + 1$, на выходе получается массив коэффициентов `array([1, 2, 0, 1, -2])`, соответствующий полиному $x^4 + 2x^3 + x - 2$."
      ]
    },
    {
      "cell_type": "code",
      "metadata": {
        "id": "JSr1CHXjo33f"
      },
      "source": [
        "def antiderivative(coefs: np.array) -> np.array:\n",
        "    return np.polyint(coefs)"
      ],
      "execution_count": null,
      "outputs": []
    },
    {
      "cell_type": "code",
      "metadata": {
        "id": "nHP8N8ffo33j"
      },
      "source": [
        "coefs = np.array([4, 6, 0, 1])\n",
        "\n",
        "assert np.allclose(\n",
        "    antiderivative(coefs),\n",
        "    np.array([1., 2., 0., 1., 0.])\n",
        ")"
      ],
      "execution_count": null,
      "outputs": []
    },
    {
      "cell_type": "code",
      "metadata": {
        "id": "0duS1FXbo33m"
      },
      "source": [
        "coefs = np.array([1, 7, -12, 21, -6])\n",
        "\n",
        "assert np.allclose(\n",
        "    antiderivative(coefs),\n",
        "    np.array([ 0.2, 1.75, -4., 10.5, -6., 0.])\n",
        ")"
      ],
      "execution_count": null,
      "outputs": []
    },
    {
      "cell_type": "markdown",
      "metadata": {
        "id": "eFpsCoYlo33t"
      },
      "source": [
        "### 8"
      ]
    },
    {
      "cell_type": "markdown",
      "metadata": {
        "id": "a1yoolNIo33x"
      },
      "source": [
        "Напишите функцию, делающую данную [треугольную матрицу](https://ru.wikipedia.org/wiki/%D0%A2%D1%80%D0%B5%D1%83%D0%B3%D0%BE%D0%BB%D1%8C%D0%BD%D0%B0%D1%8F_%D0%BC%D0%B0%D1%82%D1%80%D0%B8%D1%86%D0%B0) симметричной. Например, если на вход поступает матрица\n",
        "$$\n",
        "\\begin{pmatrix}\n",
        "1 & 2 & 3 & 4\\\\\n",
        "0 & 5 & 6 & 7\\\\\n",
        "0 & 0 & 8 & 9\\\\\n",
        "0 & 0 & 0 & 10\\\\\n",
        "\\end{pmatrix},\n",
        "$$\n",
        "то на выходе должна быть матрица\n",
        "$$\n",
        "\\begin{pmatrix}\n",
        "1 & 2 & 3 & 4\\\\\n",
        "2 & 5 & 6 & 7\\\\\n",
        "3 & 6 & 8 & 9\\\\\n",
        "4 & 7 & 9 & 10\\\\\n",
        "\\end{pmatrix}.\n",
        "$$"
      ]
    },
    {
      "cell_type": "code",
      "metadata": {
        "id": "9mur2ROco33z"
      },
      "source": [
        "def make_symmetric(matrix: np.array) -> np.array:\n",
        "    tmatrix = matrix.T\n",
        "    res = matrix + tmatrix\n",
        "    d = np.diag(matrix)\n",
        "    id = np.identity(matrix.shape[0])\n",
        "    id = id * d\n",
        "    return res - id"
      ],
      "execution_count": null,
      "outputs": []
    },
    {
      "cell_type": "code",
      "metadata": {
        "id": "yfoijKNMo333"
      },
      "source": [
        "matrix = np.array([[1, 2, 3, 4], [0, 5, 6, 7], [0, 0, 8, 9], [0, 0, 0, 10]])\n",
        "\n",
        "assert np.allclose(\n",
        "    make_symmetric(matrix),\n",
        "    np.array([[ 1,  2,  3,  4],\n",
        "              [ 2,  5,  6,  7],\n",
        "              [ 3,  6,  8,  9],\n",
        "              [ 4,  7,  9, 10]])\n",
        ")"
      ],
      "execution_count": null,
      "outputs": []
    },
    {
      "cell_type": "code",
      "metadata": {
        "id": "uen3cCKVo339"
      },
      "source": [
        "matrix = np.array([[10, 21, 32, 49], [0, 53, 62, 78], [0, 0, 82, 92], [0, 0, 0, 10]])\n",
        "\n",
        "assert np.allclose(\n",
        "    make_symmetric(matrix),\n",
        "    np.array([[10, 21, 32, 49],\n",
        "              [21, 53, 62, 78],\n",
        "              [32, 62, 82, 92],\n",
        "              [49, 78, 92, 10]])\n",
        ")"
      ],
      "execution_count": null,
      "outputs": []
    },
    {
      "cell_type": "markdown",
      "metadata": {
        "id": "gDPEuip0o34C"
      },
      "source": [
        "### 9"
      ]
    },
    {
      "cell_type": "markdown",
      "metadata": {
        "id": "tvswVzKEo34D"
      },
      "source": [
        "Напишите функцию, создающую прямоугольную матрицу из m одинаковых строк, заполненных последовательными натуральными числами от a до b включительно в возрастающем порядке. Например, если m = 5, a = 3, b = 10, то на выходе будет матрица\n",
        "$$\n",
        "\\begin{pmatrix}\n",
        "3 & 4 & 5 & 6 & 7 & 8 & 9 & 10\\\\\n",
        "3 & 4 & 5 & 6 & 7 & 8 & 9 & 10\\\\\n",
        "3 & 4 & 5 & 6 & 7 & 8 & 9 & 10\\\\\n",
        "3 & 4 & 5 & 6 & 7 & 8 & 9 & 10\\\\\n",
        "3 & 4 & 5 & 6 & 7 & 8 & 9 & 10\\\\\n",
        "\\end{pmatrix}\n",
        "$$"
      ]
    },
    {
      "cell_type": "code",
      "metadata": {
        "id": "H1nmep5Lo34F"
      },
      "source": [
        "def construct_matrix(m: int, a: int, b: int) -> np.array:\n",
        "    res1 = np.arange(a, b + 1)\n",
        "    res1 = list(res1)\n",
        "    res1 = res1 * m\n",
        "    res1 = np.array(res1)\n",
        "    return res1.reshape(m, b - a + 1)"
      ],
      "execution_count": null,
      "outputs": []
    },
    {
      "cell_type": "code",
      "metadata": {
        "id": "w4pzU3hmo34J"
      },
      "source": [
        "m = 5\n",
        "a = 3\n",
        "b = 10\n",
        "\n",
        "assert np.allclose(\n",
        "    construct_matrix(m, a, b),\n",
        "    np.array([[ 3,  4,  5,  6,  7,  8,  9, 10],\n",
        "              [ 3,  4,  5,  6,  7,  8,  9, 10],\n",
        "              [ 3,  4,  5,  6,  7,  8,  9, 10],\n",
        "              [ 3,  4,  5,  6,  7,  8,  9, 10],\n",
        "              [ 3,  4,  5,  6,  7,  8,  9, 10]])\n",
        ")"
      ],
      "execution_count": null,
      "outputs": []
    },
    {
      "cell_type": "code",
      "metadata": {
        "id": "_5_d8ByJo34O"
      },
      "source": [
        "m = 3\n",
        "a = 2\n",
        "b = 6\n",
        "\n",
        "assert np.allclose(\n",
        "    construct_matrix(m, a, b),\n",
        "    np.array([[2, 3, 4, 5, 6],\n",
        "              [2, 3, 4, 5, 6],\n",
        "              [2, 3, 4, 5, 6]])\n",
        ")"
      ],
      "execution_count": null,
      "outputs": []
    },
    {
      "cell_type": "markdown",
      "metadata": {
        "id": "2Ts2hOo4o34U"
      },
      "source": [
        "### 10"
      ]
    },
    {
      "cell_type": "markdown",
      "metadata": {
        "id": "ufsDnkilo34V"
      },
      "source": [
        "Напишите функцию, вычисляющую [косинусную близость](https://en.wikipedia.org/wiki/Cosine_similarity) двух векторов. Например, если на вход поступают вектора `array([-2, 1, 0, -5, 4, 3, -3])` и `array([0, 2, -2, 10, 6, 0, 0])`, ответом будет -0.25."
      ]
    },
    {
      "cell_type": "code",
      "metadata": {
        "id": "xULZzbOro34W"
      },
      "source": [
        "def cosine_similarity(vec1: np.array, vec2: np.array) -> float:\n",
        "       return vec1.dot(vec2)/(np.linalg.norm(vec1) * np.linalg.norm(vec2))"
      ],
      "execution_count": null,
      "outputs": []
    },
    {
      "cell_type": "code",
      "metadata": {
        "id": "uxLSFJrEo34c"
      },
      "source": [
        "vec1 = np.array([-2, 1,  0, -5, 4, 3, -3])\n",
        "vec2 = np.array([ 0, 2, -2, 10, 6, 0,  0])\n",
        "\n",
        "assert np.allclose(cosine_similarity(vec1, vec2), -0.25)"
      ],
      "execution_count": null,
      "outputs": []
    },
    {
      "cell_type": "code",
      "metadata": {
        "id": "Rz2jnaJco34f"
      },
      "source": [
        "vec1 = np.array([-4, 2,  9, -8, 9, 0, -2])\n",
        "vec2 = np.array([ 3, 2, -4, -1, 3, 2,  2])\n",
        "\n",
        "assert np.allclose(cosine_similarity(vec1, vec2), -0.119929)"
      ],
      "execution_count": null,
      "outputs": []
    },
    {
      "cell_type": "markdown",
      "metadata": {
        "id": "hlkx2M2Xo34j"
      },
      "source": [
        "## Часть 2. Pandas и Matplotlib"
      ]
    },
    {
      "cell_type": "code",
      "metadata": {
        "id": "M1buIq9yo34k"
      },
      "source": [
        "import matplotlib.pyplot as plt\n",
        "import pandas as pd\n",
        "\n",
        "%matplotlib inline"
      ],
      "execution_count": null,
      "outputs": []
    },
    {
      "cell_type": "markdown",
      "metadata": {
        "id": "KRU9ygF_o34o"
      },
      "source": [
        "В этой части домашнего задания вы поработаете с данными о пассажирах с затонувшего «Титаника». Описание данных:\n",
        "\n",
        "https://www.kaggle.com/c/titanic/data\n",
        "\n",
        "Каждый построенный график необходимо красиво оформить - для этого требуется как минимум указать его название, а также отметить, что изображено по каждой из осей.\n",
        "\n",
        "*Функции, которые могут пригодиться при оформлении графиков: `.show()`, `.title()`, `.xlabel()`, `.ylabel()`*"
      ]
    },
    {
      "cell_type": "markdown",
      "metadata": {
        "id": "o0OwC9MFo34q"
      },
      "source": [
        "### 11"
      ]
    },
    {
      "cell_type": "markdown",
      "metadata": {
        "id": "SyC36F6io34r"
      },
      "source": [
        "Откройте в ноутбуке файл с данными (\"train.csv\"). Какой размер имеет таблица? Выведите первые 5 и последние 5 строк."
      ]
    },
    {
      "cell_type": "code",
      "metadata": {
        "id": "mH9aFvBYo34z"
      },
      "source": [
        "data = pd.read_csv('train.csv', delimiter=',')"
      ],
      "execution_count": null,
      "outputs": []
    },
    {
      "cell_type": "markdown",
      "metadata": {
        "id": "4fXdgmdNo345"
      },
      "source": [
        "### 12"
      ]
    },
    {
      "cell_type": "markdown",
      "metadata": {
        "id": "7QTRudSjo346"
      },
      "source": [
        "Для каждого из признаков укажите его тип (вещественный, категориальный, порядковый, другое). Придумайте три задачи, которые можно было бы решать для данного датасета — задачу регрессии, задачу классификации и задачу кластеризации."
      ]
    },
    {
      "cell_type": "markdown",
      "metadata": {
        "id": "5bl1kf53o347"
      },
      "source": [
        "Признаки: \\\\\n",
        "1)PassengerID - порядковый \\\\\n",
        "2)Survived - бинарный \\\\\n",
        "3)Pclass - порядковый \\\\\n",
        "4)Name - строковый \\\\\n",
        "5)Sex - категориальный \\\\\n",
        "6)Age - вещественный \\\\\n",
        "7)SibSp - вещественный \\\\\n",
        "8)Parch - вещественный \\\\\n",
        "9)Ticket - категориальный \\\\\n",
        "10)Fare - вещественный \\\\\n",
        "11)Cabin - категориальный \\\\\n",
        "12)Embarked - порядковый \\\\\n",
        "Задача регрессии: предсказать вероятность пассажира выжить в зависимости от количества родственников пассажира на борту \\\\\n",
        "Задача классификации: разделить стоимость билетов по классам места \\\\\n",
        "Задача кластеризации: разделить пассажиров по кластерам"
      ]
    },
    {
      "cell_type": "markdown",
      "metadata": {
        "id": "zA95eSUBo347"
      },
      "source": [
        "\n",
        "### 13"
      ]
    },
    {
      "cell_type": "markdown",
      "metadata": {
        "id": "cwQU71sZo34_"
      },
      "source": [
        "Какова доля выживших после крушения пассажиров? Какова доля мужчин и женщин среди выживших?"
      ]
    },
    {
      "cell_type": "code",
      "metadata": {
        "id": "No0KFlwXo35A"
      },
      "source": [
        "surv = data[data[\"Survived\"] == 1].shape[0]\n",
        "print(surv/data[\"Survived\"].shape[0]*100)"
      ],
      "execution_count": null,
      "outputs": []
    },
    {
      "cell_type": "markdown",
      "metadata": {
        "id": "Nrd5wLUwrUMX"
      },
      "source": [
        "Доля выживших - примерно 38%"
      ]
    },
    {
      "cell_type": "code",
      "metadata": {
        "id": "Au4TueJ6rXV2"
      },
      "source": [
        "print(data[(data[\"Survived\"] == 1) & (data[\"Sex\"] == \"female\")].shape[0]/data[\"Survived\"].shape[0]*100)"
      ],
      "execution_count": null,
      "outputs": []
    },
    {
      "cell_type": "markdown",
      "metadata": {
        "id": "zofxeijWraRM"
      },
      "source": [
        "Доля женщин среди выживших - 26%"
      ]
    },
    {
      "cell_type": "code",
      "metadata": {
        "id": "8Z_2VI-1rd0M"
      },
      "source": [
        "print(data[(data[\"Survived\"] == 1) & (data[\"Sex\"] == \"male\")].shape[0]/data[\"Survived\"].shape[0]*100)"
      ],
      "execution_count": null,
      "outputs": []
    },
    {
      "cell_type": "markdown",
      "metadata": {
        "id": "omO548UUreAf"
      },
      "source": [
        "Доля мужчин среди выживших - 12%"
      ]
    },
    {
      "cell_type": "markdown",
      "metadata": {
        "id": "4v_NbkAco35G"
      },
      "source": [
        "### 14"
      ]
    },
    {
      "cell_type": "markdown",
      "metadata": {
        "id": "Is3wqqZXo35I"
      },
      "source": [
        "Сколько пассажиров ехало в каждом классе? Кого было больше в самом многолюдном классе — мужчин или женщин?"
      ]
    },
    {
      "cell_type": "code",
      "metadata": {
        "id": "E2LJ3xzgo35J"
      },
      "source": [
        "data['Pclass'].value_counts()"
      ],
      "execution_count": null,
      "outputs": []
    },
    {
      "cell_type": "markdown",
      "metadata": {
        "id": "it33oiNVr1Rv"
      },
      "source": [
        "В классе \"3\" - 491 пассажиров \\\\\n",
        "В классе \"2\" - 216 пассажиров \\\\\n",
        "В классе \"1\" - 184 пассажира"
      ]
    },
    {
      "cell_type": "code",
      "metadata": {
        "id": "jDi77-r8r296"
      },
      "source": [
        "print(\"Women: \", data[(data[\"Pclass\"] == 3) & (data[\"Sex\"] == \"female\")].shape[0])\n",
        "print(\"Men: \", data[(data[\"Pclass\"] == 3) & (data[\"Sex\"] == \"male\")].shape[0])"
      ],
      "execution_count": null,
      "outputs": []
    },
    {
      "cell_type": "markdown",
      "metadata": {
        "id": "XyVND5jkr7F3"
      },
      "source": [
        "В самом многолюдном классе \"3\" было больше мужчин"
      ]
    },
    {
      "cell_type": "markdown",
      "metadata": {
        "id": "3icChhxBo35O"
      },
      "source": [
        "### 15"
      ]
    },
    {
      "cell_type": "markdown",
      "metadata": {
        "id": "RTC9Q8wBo35P"
      },
      "source": [
        "Выведите минимальную, среднюю и максимальную сумму, которую заплатили пассажиры за проезд. Проделайте то же самое только для тех пассажиров, которые сели на корабль в Саутгемптоне. Выведите гистограммы, показывающие распределения стоимостей билетов в зависимости от места посадки."
      ]
    },
    {
      "cell_type": "code",
      "metadata": {
        "id": "HeQw3eGVo35Q"
      },
      "source": [
        "data.Fare.describe()"
      ],
      "execution_count": null,
      "outputs": []
    },
    {
      "cell_type": "code",
      "metadata": {
        "id": "ReGF69pAsDWK"
      },
      "source": [
        "print(\"Minimum fare: \", data.Fare.min())"
      ],
      "execution_count": null,
      "outputs": []
    },
    {
      "cell_type": "code",
      "metadata": {
        "id": "if3FYViusDr3"
      },
      "source": [
        "print(\"Mean fare: \", data.Fare.mean())"
      ],
      "execution_count": null,
      "outputs": []
    },
    {
      "cell_type": "code",
      "metadata": {
        "id": "B4cC3mLtsFIg"
      },
      "source": [
        "print(\"Maximum fare: \", data.Fare.max())"
      ],
      "execution_count": null,
      "outputs": []
    },
    {
      "cell_type": "code",
      "metadata": {
        "id": "jT2u6pAqsHwq"
      },
      "source": [
        "print(\"Minimum fare for passengers from Southampton: \", data[\"Fare\"][(data[\"Embarked\"] == \"S\")].min())"
      ],
      "execution_count": null,
      "outputs": []
    },
    {
      "cell_type": "code",
      "metadata": {
        "id": "Rv8tzV00sKWo"
      },
      "source": [
        "print(\"Mean fare for passengers from Southampton: \", data[\"Fare\"][(data[\"Embarked\"] == \"S\")].mean())"
      ],
      "execution_count": null,
      "outputs": []
    },
    {
      "cell_type": "code",
      "metadata": {
        "id": "CObqk1jrsKnV"
      },
      "source": [
        "print(\"Maximum fare for passengers from Southampton: \", data[\"Fare\"][(data[\"Embarked\"] == \"S\")].max())"
      ],
      "execution_count": null,
      "outputs": []
    },
    {
      "cell_type": "code",
      "metadata": {
        "id": "tRL6QJ0YsMgG"
      },
      "source": [
        "plt.style.use('seaborn-white')"
      ],
      "execution_count": null,
      "outputs": []
    },
    {
      "cell_type": "code",
      "metadata": {
        "id": "hv7kh2tYsOK3"
      },
      "source": [
        "fare_of_s = data[\"Fare\"][(data[\"Embarked\"] == \"S\")]\n",
        "fare_of_c = data[\"Fare\"][(data[\"Embarked\"] == \"C\")]\n",
        "fare_of_q = data[\"Fare\"][(data[\"Embarked\"] == \"Q\")]"
      ],
      "execution_count": null,
      "outputs": []
    },
    {
      "cell_type": "code",
      "metadata": {
        "id": "jRPwmp9dsS__"
      },
      "source": [
        "hist_s = plt.hist(fare_of_s, bins=30,\n",
        "         histtype='stepfilled', color='steelblue');\n",
        "plt.xlabel(\"Стоимость билета\");\n",
        "plt.ylabel(\"Количество пассажиров\");\n",
        "plt.title(\"Распределение билетов с отправлением из Саутгемптона\");\n",
        "plt.show()"
      ],
      "execution_count": null,
      "outputs": []
    },
    {
      "cell_type": "code",
      "metadata": {
        "id": "zch8mJXnsTfA"
      },
      "source": [
        "plt.hist(fare_of_c, bins=30,\n",
        "         histtype='stepfilled', color='steelblue');\n",
        "plt.xlabel(\"Стоимость билета\");\n",
        "plt.ylabel(\"Количество пассажиров\");\n",
        "plt.title(\"Распределение билетов с отправлением из Шербурга\");"
      ],
      "execution_count": null,
      "outputs": []
    },
    {
      "cell_type": "code",
      "metadata": {
        "id": "ON0-JHFIsU9x"
      },
      "source": [
        "plt.hist(fare_of_q, bins=25,\n",
        "         histtype='stepfilled', color='steelblue');\n",
        "plt.xlabel(\"Стоимость билета\");\n",
        "plt.ylabel(\"Количество пассажиров\");\n",
        "plt.title(\"Распределение билетов с отправлением из Куинстауна\");"
      ],
      "execution_count": null,
      "outputs": []
    },
    {
      "cell_type": "markdown",
      "metadata": {
        "id": "PbPFN2-Wo35X"
      },
      "source": [
        "### 16"
      ]
    },
    {
      "cell_type": "markdown",
      "metadata": {
        "id": "Sr2GdNd1o35a"
      },
      "source": [
        "Все ли признаки несут в себе полезную информацию? Почему? Избавьтесь от ненужных столбцов."
      ]
    },
    {
      "cell_type": "code",
      "metadata": {
        "id": "jEE-k1KAo35c"
      },
      "source": [
        "data.PassengerId[data.Cabin.notnull()].count()"
      ],
      "execution_count": null,
      "outputs": []
    },
    {
      "cell_type": "code",
      "metadata": {
        "id": "NiWgpDxmsbjn"
      },
      "source": [
        "data.PassengerId[data.Cabin.isnull()].count()"
      ],
      "execution_count": null,
      "outputs": []
    },
    {
      "cell_type": "markdown",
      "metadata": {
        "id": "FTMNjQFnscql"
      },
      "source": [
        "Малоинформативные признаки: \\\\\n",
        "PassengerID - не коррелирует с другими признаками \\\\\n",
        "Ticket - так как нет общей структуры \\\\\n",
        "Cabin - так как много пропущенных ячеек"
      ]
    },
    {
      "cell_type": "code",
      "metadata": {
        "id": "k5Xg7j9EsemX"
      },
      "source": [
        "data_dr = data.drop(['PassengerId','Ticket','Cabin'],axis=1)"
      ],
      "execution_count": null,
      "outputs": []
    },
    {
      "cell_type": "markdown",
      "metadata": {
        "id": "kVPHbyWKo35j"
      },
      "source": [
        "### 17"
      ]
    },
    {
      "cell_type": "markdown",
      "metadata": {
        "id": "PdcynVPgo35l"
      },
      "source": [
        "Есть ли в данных пропуски? Если да, то в каких столбцах? Сколько пропусков в каждом из них?"
      ]
    },
    {
      "cell_type": "code",
      "metadata": {
        "id": "FKRTitTPo35m"
      },
      "source": [
        "data.isnull().any().any()"
      ],
      "execution_count": null,
      "outputs": []
    },
    {
      "cell_type": "markdown",
      "metadata": {
        "id": "9fDL9_oQsjqP"
      },
      "source": [
        "Вывод: в данных есть пропуски"
      ]
    },
    {
      "cell_type": "code",
      "metadata": {
        "id": "meqEmydBslN_"
      },
      "source": [
        "nans = data.loc[:, data.isnull().any()].copy()\n",
        "nans.columns"
      ],
      "execution_count": null,
      "outputs": []
    },
    {
      "cell_type": "markdown",
      "metadata": {
        "id": "aHXrPNA8sm6H"
      },
      "source": [
        "Вывод: есть пропуски в столбцах 'Age', 'Cabin', 'Embarked'"
      ]
    },
    {
      "cell_type": "code",
      "metadata": {
        "id": "97ujBf07sqSp"
      },
      "source": [
        "len(data) - data.Age.count()"
      ],
      "execution_count": null,
      "outputs": []
    },
    {
      "cell_type": "code",
      "metadata": {
        "id": "Hh950C7Psqrt"
      },
      "source": [
        "len(data) - data.Cabin.count()"
      ],
      "execution_count": null,
      "outputs": []
    },
    {
      "cell_type": "code",
      "metadata": {
        "id": "OpYf5zsIssqk"
      },
      "source": [
        "len(data) - data.Embarked.count()"
      ],
      "execution_count": null,
      "outputs": []
    },
    {
      "cell_type": "markdown",
      "metadata": {
        "id": "YI-p5Kx0ss5w"
      },
      "source": [
        "Вывод: в столбце Age - 177 пропусков \\\\\n",
        "в столбце Cabin - 687 пропусков \\\\\n",
        "в столбце Embarked - 2 пропуска"
      ]
    },
    {
      "cell_type": "markdown",
      "metadata": {
        "id": "yqXL_RFGo35q"
      },
      "source": [
        "### 18"
      ]
    },
    {
      "cell_type": "markdown",
      "metadata": {
        "id": "KdDYZShpo35r"
      },
      "source": [
        "Подумайте, как стоит заполнить пропуски в каждом столбце в зависимости от его типа, и сделайте это. Проверьте, что пропусков нигде не осталось."
      ]
    },
    {
      "cell_type": "markdown",
      "metadata": {
        "id": "O5G7hVwEsy9g"
      },
      "source": [
        "Пропуски в столбце Age могут быть заполнены средним возрастом пассажиров"
      ]
    },
    {
      "cell_type": "code",
      "metadata": {
        "id": "b0jV2HNUo35s"
      },
      "source": [
        "data.Age.fillna(data.Age.mean(), inplace=True)"
      ],
      "execution_count": null,
      "outputs": []
    },
    {
      "cell_type": "markdown",
      "metadata": {
        "id": "C7bj1mkzs1H3"
      },
      "source": [
        "Пропуски в столбце Cabin могут быть заполнены строкой, которая означает, что ячейка в исходной таблице была пропущена (так как пропущено слишком много ячеек)"
      ]
    },
    {
      "cell_type": "code",
      "metadata": {
        "id": "SAHPDPkCs3eo"
      },
      "source": [
        "data.Cabin.fillna(\"NN\", inplace=True)"
      ],
      "execution_count": null,
      "outputs": []
    },
    {
      "cell_type": "markdown",
      "metadata": {
        "id": "vr4uRdC6s5eU"
      },
      "source": [
        "Пропуски в столбце Embarked могут быть заполнены портом в котором село больше всего людей"
      ]
    },
    {
      "cell_type": "code",
      "metadata": {
        "id": "l1jMTV0Ds67T"
      },
      "source": [
        "data.Embarked.fillna(data.Embarked.mode()[0], inplace=True)"
      ],
      "execution_count": null,
      "outputs": []
    },
    {
      "cell_type": "code",
      "metadata": {
        "id": "xXW6TEL3s89L"
      },
      "source": [
        "data.isnull().any().any()"
      ],
      "execution_count": null,
      "outputs": []
    },
    {
      "cell_type": "markdown",
      "metadata": {
        "id": "XOHnBWAFs-BM"
      },
      "source": [
        "Все пропуски были заполнены"
      ]
    },
    {
      "cell_type": "markdown",
      "metadata": {
        "id": "T-yz3VU8o35y"
      },
      "source": [
        "### 19"
      ]
    },
    {
      "cell_type": "markdown",
      "metadata": {
        "id": "VMFkdOhfo352"
      },
      "source": [
        "Посчитайте, насколько сильно коррелируют друг с другом цена за билет и возраст пассажиров. Также проверьте наличие этой зависимости визуально (в этом вам поможет построение [диаграммы рассеяния](https://ru.wikipedia.org/wiki/%D0%94%D0%B8%D0%B0%D0%B3%D1%80%D0%B0%D0%BC%D0%BC%D0%B0_%D1%80%D0%B0%D1%81%D1%81%D0%B5%D1%8F%D0%BD%D0%B8%D1%8F))."
      ]
    },
    {
      "cell_type": "code",
      "metadata": {
        "id": "e6iszVIwo353"
      },
      "source": [
        "data.loc[:, {\"Age\", \"Fare\"}].corr()"
      ],
      "execution_count": null,
      "outputs": []
    },
    {
      "cell_type": "markdown",
      "metadata": {
        "id": "mMqlh8ketDhg"
      },
      "source": [
        "Коэффициент корреляции = 0.096067"
      ]
    },
    {
      "cell_type": "code",
      "metadata": {
        "id": "l_zVRrbctD__"
      },
      "source": [
        "plt.scatter(data.Age, data.Fare);\n",
        "plt.xlabel(\"Возраст\");\n",
        "plt.ylabel(\"Цена за билет\");\n",
        "plt.title(\"Корреляция между возрастом пассажира и стоимостью его билета\");"
      ],
      "execution_count": null,
      "outputs": []
    },
    {
      "cell_type": "markdown",
      "metadata": {
        "id": "By3JubUio355"
      },
      "source": [
        "### 20"
      ]
    },
    {
      "cell_type": "markdown",
      "metadata": {
        "id": "HkWa80Wvo356"
      },
      "source": [
        "Правда ли, что чаще выживали пассажиры с более дорогими билетами? А есть ли зависимость выживаемости от класса?"
      ]
    },
    {
      "cell_type": "code",
      "metadata": {
        "id": "34ShunObo357"
      },
      "source": [
        "x = data.Fare.mean()\n",
        "data[data.Fare < x].groupby(\"Survived\").size()/(len(data[data.Fare < x]))*100"
      ],
      "execution_count": null,
      "outputs": []
    },
    {
      "cell_type": "code",
      "metadata": {
        "id": "ZrTPl8PotKl3"
      },
      "source": [
        "data[data.Fare > x].groupby(\"Survived\").size()/(len(data[data.Fare > x]))*100"
      ],
      "execution_count": null,
      "outputs": []
    },
    {
      "cell_type": "markdown",
      "metadata": {
        "id": "3BymAWactM_a"
      },
      "source": [
        "Вывод: пассажиры с более дорогими билетами (выше средней цены билета) выживали чаще"
      ]
    },
    {
      "cell_type": "code",
      "metadata": {
        "id": "KwMx5j6xtNWf"
      },
      "source": [
        "data.pivot_table(\"PassengerId\", \"Pclass\", \"Survived\", \"count\").plot(kind=\"bar\");\n",
        "plt.title(\"Зависимость между выживаемостью и классом\");"
      ],
      "execution_count": null,
      "outputs": []
    },
    {
      "cell_type": "code",
      "metadata": {
        "id": "-tE-WdMFtPPP"
      },
      "source": [
        "data.loc[:, {\"Survived\", \"Pclass\"}].corr()"
      ],
      "execution_count": null,
      "outputs": []
    },
    {
      "cell_type": "markdown",
      "metadata": {
        "id": "SHEsjGfLtR3M"
      },
      "source": [
        "Вывод: есть зависимость между классом и выживаемостью; чаще выживали пассажиры с билетами более высокого класса. Наличие зависимости подтверждается корреляцией (не близка к нулю)"
      ]
    },
    {
      "cell_type": "markdown",
      "metadata": {
        "id": "10jMiomGo35_"
      },
      "source": [
        "### 21"
      ]
    },
    {
      "cell_type": "markdown",
      "metadata": {
        "id": "XmbNwUFEo36B"
      },
      "source": [
        "Создание новых признаков (feature engineering) является одним из основных средств улучшения качества работы алгоритмов машинного обучения на этапе обработки данных. Добавьте в таблицу столбец, который будет показывать, сколько родных плыло вместе с пассажиром на корабле, включая его самого. Затем придумайте свой признак, который может быть полезен для алгоритма (несет в себе какую-то информацию), и добавьте его в таблицу."
      ]
    },
    {
      "cell_type": "code",
      "metadata": {
        "id": "LWO18blco36D"
      },
      "source": [
        "data[\"Rel\"] = data[\"SibSp\"] + data[\"Parch\"] + 1"
      ],
      "execution_count": null,
      "outputs": []
    },
    {
      "cell_type": "markdown",
      "metadata": {
        "id": "8W37R31UtVn3"
      },
      "source": [
        "Добавим новый признак Alone, который будет принимать значение 1, если в столбце Rel стоит 1, и 0 - иначе (показывает, путешествовал ли человек один)"
      ]
    },
    {
      "cell_type": "code",
      "metadata": {
        "id": "DvlH1BCLtXeA"
      },
      "source": [
        "data[\"Alone\"] = data[\"Rel\"] == 1"
      ],
      "execution_count": null,
      "outputs": []
    },
    {
      "cell_type": "markdown",
      "metadata": {
        "id": "dcMu4_tIo36H"
      },
      "source": [
        "### 22"
      ]
    },
    {
      "cell_type": "markdown",
      "metadata": {
        "id": "ZS1EcoKco36I"
      },
      "source": [
        "Придумайте какое-нибудь интересное задание на анализ предлагаемых данных и решите его. Например, какая фамилия была самой популярной на корабле?"
      ]
    },
    {
      "cell_type": "markdown",
      "metadata": {
        "id": "ISpFd79gtc_J"
      },
      "source": [
        "Задача: выяснить зависимость между наличием родственников на борту и выживаемостью."
      ]
    },
    {
      "cell_type": "code",
      "metadata": {
        "id": "7QZwR99Co36J"
      },
      "source": [
        "data.pivot_table(\"PassengerId\", \"Rel\", \"Survived\", \"count\").plot(kind=\"bar\");\n",
        "plt.title(\"Зависимость между выживаемостью и наличием родственников на борту\");"
      ],
      "execution_count": null,
      "outputs": []
    },
    {
      "cell_type": "markdown",
      "metadata": {
        "id": "HvrkWiKmtg9H"
      },
      "source": [
        "Вывод: пассажиры с 1 - 3 родственниками спасались чаще, чем погибали, в отличие от пассажиров с большим числом родственников или тех, кто путешествовал один"
      ]
    },
    {
      "cell_type": "markdown",
      "metadata": {
        "id": "002SRItxo36L"
      },
      "source": [
        "### 23"
      ]
    },
    {
      "cell_type": "markdown",
      "metadata": {
        "id": "iBHh_niAo36M"
      },
      "source": [
        "Постройте гистограммы распределения вещественных признаков. Есть ли в них разница? Чем это может быть плохо с точки зрения машинного обучения? Отнормируйте вещественные признаки и посмотрите, как изменилась ситуация."
      ]
    },
    {
      "cell_type": "code",
      "metadata": {
        "id": "CX16h-J4o36N"
      },
      "source": [
        "# your code here"
      ],
      "execution_count": null,
      "outputs": []
    },
    {
      "cell_type": "markdown",
      "metadata": {
        "id": "pzFDgMKvo36U"
      },
      "source": [
        "### 24"
      ]
    },
    {
      "cell_type": "markdown",
      "metadata": {
        "id": "n3XuI-jUo36a"
      },
      "source": [
        "Есть ли в данных категориальные признаки, которые принимают значения строк, а не чисел? Если да, то для многих алгоритмов машинного обучения это может стать серьезным препятствием, поэтому закодируйте категориальные признаки так, чтобы к данным можно было применить любые алгоритмы машинного обучения."
      ]
    },
    {
      "cell_type": "code",
      "metadata": {
        "id": "VhQlDkr0o36c"
      },
      "source": [
        "# your code here"
      ],
      "execution_count": null,
      "outputs": []
    },
    {
      "cell_type": "markdown",
      "metadata": {
        "id": "xlbeWdnJo36e"
      },
      "source": [
        "# 3 KNN своими руками (Бонусное задание: 4 балла)"
      ]
    },
    {
      "cell_type": "markdown",
      "metadata": {
        "id": "AQjdu3LXo36f"
      },
      "source": [
        "### 25\n",
        "В этом задании вам предстоить реализовать метод KNN для задачи классификации. Перед вами интерфейс класса, который вам предстоить реализовать. От вас требуется реализовать методы:\n",
        "* `__init__(self, n_neighbors)`\n",
        "* `fit(self, X, y)`\n",
        "* `predict(self, X)`\n",
        "* `predict_proba(self, X)`\n",
        "\n",
        "Все ближайшие соседи должны иметь одинаковые веса при построении предсказания. В качестве метрики используйте евклидово расстояние.\n",
        "\n",
        "Для поиска ближайших соседей можно воспользоваться готовыми структурами данных из подмодуля `sklearn.neighors`, например `KDTree`. Структуры данных из этого подмодуля принимают на вход массив точек, а потом позволяют делать запросы и быстро находить ближайших соседей.\n",
        "\n",
        "Для проверки работы вашей реализации примените алгоритм ближайших соседей на датасете из пункта 24.\n",
        "Какие метрики качества у вас получаются? Сравните свои результаты с результатами KNN из библиотеки sklearn."
      ]
    },
    {
      "cell_type": "code",
      "metadata": {
        "id": "vWdomFxRo36h"
      },
      "source": [
        "from sklearn.base import BaseEstimator\n",
        "\n",
        "class MyNeighborsClassifier(BaseEstimator):\n",
        "    def __init__(self, n_neighbors):\n",
        "        super().__init__()\n",
        "        pass\n",
        "    \n",
        "    def fit(self, X, y):\n",
        "        pass\n",
        "    \n",
        "    def predict(self, X):\n",
        "        pass\n",
        "    \n",
        "    def predict_proba(self, X):\n",
        "        pass"
      ],
      "execution_count": null,
      "outputs": []
    },
    {
      "cell_type": "code",
      "metadata": {
        "id": "I_tfIl0Eo36k"
      },
      "source": [
        ""
      ],
      "execution_count": null,
      "outputs": []
    }
  ]
}